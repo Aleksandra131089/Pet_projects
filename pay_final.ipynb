{
 "cells": [
  {
   "cell_type": "markdown",
   "id": "88e8bb9b",
   "metadata": {
    "toc": true
   },
   "source": [
    "<h1>Table of Contents<span class=\"tocSkip\"></span></h1>\n",
    "<div class=\"toc\"><ul class=\"toc-item\"><li><span><a href=\"#Данные\" data-toc-modified-id=\"Данные-1\"><span class=\"toc-item-num\">1&nbsp;&nbsp;</span>Данные</a></span><ul class=\"toc-item\"><li><span><a href=\"#Библиотеки\" data-toc-modified-id=\"Библиотеки-1.1\"><span class=\"toc-item-num\">1.1&nbsp;&nbsp;</span>Библиотеки</a></span></li><li><span><a href=\"#Загрузка-данных\" data-toc-modified-id=\"Загрузка-данных-1.2\"><span class=\"toc-item-num\">1.2&nbsp;&nbsp;</span>Загрузка данных</a></span></li><li><span><a href=\"#Функции-и-переменные\" data-toc-modified-id=\"Функции-и-переменные-1.3\"><span class=\"toc-item-num\">1.3&nbsp;&nbsp;</span>Функции и переменные</a></span><ul class=\"toc-item\"><li><span><a href=\"#функция-для-изучения-данных-info\" data-toc-modified-id=\"функция-для-изучения-данных-info-1.3.1\"><span class=\"toc-item-num\">1.3.1&nbsp;&nbsp;</span>функция для изучения данных <code>info</code></a></span></li><li><span><a href=\"#функция-для-расчета-оплат-calculation\" data-toc-modified-id=\"функция-для-расчета-оплат-calculation-1.3.2\"><span class=\"toc-item-num\">1.3.2&nbsp;&nbsp;</span>функция для расчета оплат <code>calculation</code></a></span></li><li><span><a href=\"#Функция-получения-restoran_id\" data-toc-modified-id=\"Функция-получения-restoran_id-1.3.3\"><span class=\"toc-item-num\">1.3.3&nbsp;&nbsp;</span>Функция получения <code>restoran_id</code></a></span></li><li><span><a href=\"#Списки-фильтрации-нужных-полей-из-исходного-файла\" data-toc-modified-id=\"Списки-фильтрации-нужных-полей-из-исходного-файла-1.3.4\"><span class=\"toc-item-num\">1.3.4&nbsp;&nbsp;</span>Списки фильтрации нужных полей из исходного файла</a></span></li></ul></li></ul></li><li><span><a href=\"#Изучение-и-обработка-данных\" data-toc-modified-id=\"Изучение-и-обработка-данных-2\"><span class=\"toc-item-num\">2&nbsp;&nbsp;</span>Изучение и обработка данных</a></span><ul class=\"toc-item\"><li><span><a href=\"#Заказы\" data-toc-modified-id=\"Заказы-2.1\"><span class=\"toc-item-num\">2.1&nbsp;&nbsp;</span>Заказы</a></span><ul class=\"toc-item\"><li><span><a href=\"#Изучение\" data-toc-modified-id=\"Изучение-2.1.1\"><span class=\"toc-item-num\">2.1.1&nbsp;&nbsp;</span>Изучение</a></span></li><li><span><a href=\"#Обработка\" data-toc-modified-id=\"Обработка-2.1.2\"><span class=\"toc-item-num\">2.1.2&nbsp;&nbsp;</span>Обработка</a></span></li></ul></li><li><span><a href=\"#Ставки-курьеров\" data-toc-modified-id=\"Ставки-курьеров-2.2\"><span class=\"toc-item-num\">2.2&nbsp;&nbsp;</span>Ставки курьеров</a></span><ul class=\"toc-item\"><li><span><a href=\"#Изучение\" data-toc-modified-id=\"Изучение-2.2.1\"><span class=\"toc-item-num\">2.2.1&nbsp;&nbsp;</span>Изучение</a></span></li><li><span><a href=\"#Проверка-на-дубликаты\" data-toc-modified-id=\"Проверка-на-дубликаты-2.2.2\"><span class=\"toc-item-num\">2.2.2&nbsp;&nbsp;</span>Проверка на дубликаты</a></span></li><li><span><a href=\"#Обработка\" data-toc-modified-id=\"Обработка-2.2.3\"><span class=\"toc-item-num\">2.2.3&nbsp;&nbsp;</span>Обработка</a></span></li></ul></li><li><span><a href=\"#Типы-курьеров\" data-toc-modified-id=\"Типы-курьеров-2.3\"><span class=\"toc-item-num\">2.3&nbsp;&nbsp;</span>Типы курьеров</a></span><ul class=\"toc-item\"><li><span><a href=\"#Изучение\" data-toc-modified-id=\"Изучение-2.3.1\"><span class=\"toc-item-num\">2.3.1&nbsp;&nbsp;</span>Изучение</a></span></li><li><span><a href=\"#Обработка\" data-toc-modified-id=\"Обработка-2.3.2\"><span class=\"toc-item-num\">2.3.2&nbsp;&nbsp;</span>Обработка</a></span></li></ul></li><li><span><a href=\"#Часы-курьеров\" data-toc-modified-id=\"Часы-курьеров-2.4\"><span class=\"toc-item-num\">2.4&nbsp;&nbsp;</span>Часы курьеров</a></span><ul class=\"toc-item\"><li><span><a href=\"#Изучение\" data-toc-modified-id=\"Изучение-2.4.1\"><span class=\"toc-item-num\">2.4.1&nbsp;&nbsp;</span>Изучение</a></span></li><li><span><a href=\"#Обработка\" data-toc-modified-id=\"Обработка-2.4.2\"><span class=\"toc-item-num\">2.4.2&nbsp;&nbsp;</span>Обработка</a></span></li><li><span><a href=\"#Проверка-часов\" data-toc-modified-id=\"Проверка-часов-2.4.3\"><span class=\"toc-item-num\">2.4.3&nbsp;&nbsp;</span>Проверка часов</a></span></li></ul></li></ul></li><li><span><a href=\"#Объединение-таблиц\" data-toc-modified-id=\"Объединение-таблиц-3\"><span class=\"toc-item-num\">3&nbsp;&nbsp;</span>Объединение таблиц</a></span><ul class=\"toc-item\"><li><span><a href=\"#Ставки\" data-toc-modified-id=\"Ставки-3.1\"><span class=\"toc-item-num\">3.1&nbsp;&nbsp;</span>Ставки</a></span><ul class=\"toc-item\"><li><span><a href=\"#Проверка-после-объединения\" data-toc-modified-id=\"Проверка-после-объединения-3.1.1\"><span class=\"toc-item-num\">3.1.1&nbsp;&nbsp;</span>Проверка после объединения</a></span></li></ul></li><li><span><a href=\"#Типы-курьеров\" data-toc-modified-id=\"Типы-курьеров-3.2\"><span class=\"toc-item-num\">3.2&nbsp;&nbsp;</span>Типы курьеров</a></span><ul class=\"toc-item\"><li><span><a href=\"#Проверка-после-объединения\" data-toc-modified-id=\"Проверка-после-объединения-3.2.1\"><span class=\"toc-item-num\">3.2.1&nbsp;&nbsp;</span>Проверка после объединения</a></span></li></ul></li><li><span><a href=\"#Часы-курьеров\" data-toc-modified-id=\"Часы-курьеров-3.3\"><span class=\"toc-item-num\">3.3&nbsp;&nbsp;</span>Часы курьеров</a></span><ul class=\"toc-item\"><li><span><a href=\"#Проверка-после-объединения\" data-toc-modified-id=\"Проверка-после-объединения-3.3.1\"><span class=\"toc-item-num\">3.3.1&nbsp;&nbsp;</span>Проверка после объединения</a></span></li></ul></li></ul></li><li><span><a href=\"#Расчет-оплаты\" data-toc-modified-id=\"Расчет-оплаты-4\"><span class=\"toc-item-num\">4&nbsp;&nbsp;</span>Расчет оплаты</a></span><ul class=\"toc-item\"><li><span><a href=\"#Подготовка\" data-toc-modified-id=\"Подготовка-4.1\"><span class=\"toc-item-num\">4.1&nbsp;&nbsp;</span>Подготовка</a></span></li><li><span><a href=\"#Расчет-оплаты-по-заказам\" data-toc-modified-id=\"Расчет-оплаты-по-заказам-4.2\"><span class=\"toc-item-num\">4.2&nbsp;&nbsp;</span>Расчет оплаты по заказам</a></span><ul class=\"toc-item\"><li><span><a href=\"#Проверка-после-расчета\" data-toc-modified-id=\"Проверка-после-расчета-4.2.1\"><span class=\"toc-item-num\">4.2.1&nbsp;&nbsp;</span>Проверка после расчета</a></span></li></ul></li><li><span><a href=\"#Сводная-таблица-с-общей-оплатой-курьерам\" data-toc-modified-id=\"Сводная-таблица-с-общей-оплатой-курьерам-4.3\"><span class=\"toc-item-num\">4.3&nbsp;&nbsp;</span>Сводная таблица с общей оплатой курьерам</a></span></li><li><span><a href=\"#выгрузка-файла-с-расчетом\" data-toc-modified-id=\"выгрузка-файла-с-расчетом-4.4\"><span class=\"toc-item-num\">4.4&nbsp;&nbsp;</span>выгрузка файла с расчетом</a></span></li></ul></li><li><span><a href=\"#Баг-репорт\" data-toc-modified-id=\"Баг-репорт-5\"><span class=\"toc-item-num\">5&nbsp;&nbsp;</span>Баг репорт</a></span><ul class=\"toc-item\"><li><span><a href=\"#курьеры-с-несколькими-типами-перемещения\" data-toc-modified-id=\"курьеры-с-несколькими-типами-перемещения-5.1\"><span class=\"toc-item-num\">5.1&nbsp;&nbsp;</span>курьеры с несколькими типами перемещения</a></span></li></ul></li><li><span><a href=\"#Доработать\" data-toc-modified-id=\"Доработать-6\"><span class=\"toc-item-num\">6&nbsp;&nbsp;</span>Доработать</a></span></li></ul></div>"
   ]
  },
  {
   "cell_type": "markdown",
   "id": "36e621a5",
   "metadata": {},
   "source": [
    "## Данные"
   ]
  },
  {
   "cell_type": "markdown",
   "id": "e9ad1c4a",
   "metadata": {},
   "source": [
    "### Библиотеки"
   ]
  },
  {
   "cell_type": "code",
   "execution_count": 1,
   "id": "24422b57",
   "metadata": {},
   "outputs": [],
   "source": [
    "import pandas as pd\n",
    "import numpy as np\n",
    "import datetime\n",
    "from datetime import date\n",
    "from datetime import timedelta\n",
    "import math"
   ]
  },
  {
   "cell_type": "markdown",
   "id": "c9b97848",
   "metadata": {},
   "source": [
    "### Загрузка данных"
   ]
  },
  {
   "cell_type": "markdown",
   "id": "59801357",
   "metadata": {},
   "source": [
    "Создам словарь для переименования столбцов при экспорте данных"
   ]
  },
  {
   "cell_type": "code",
   "execution_count": 2,
   "id": "94bf461d",
   "metadata": {},
   "outputs": [],
   "source": [
    "# словарь для переименования столбцов\n",
    "mapping = {\n",
    "    'Дата и время создания заказа' : 'date_time_of_order',\n",
    "    'ID заказа' : 'order_id',\n",
    "    'Статус заказа' : 'order_status',\n",
    "    'Тип доставки заказа' : 'order_delivery_type',\n",
    "    'Ресторан' : 'restoran_name',\n",
    "    'Тип курьера' : 'courier_type',\n",
    "    'Тип зоны доставки' : 'type_of_delivery_area',\n",
    "    'Курьер тип перемещения' : 'courier_type_of_movement',\n",
    "    'id ресторана' : 'restoran_id', 'id курьера' : 'courier_id'}"
   ]
  },
  {
   "cell_type": "markdown",
   "id": "65352773",
   "metadata": {},
   "source": [
    "Сохраню данные в переменные:\n",
    "* Фаил с заказами - `order`\n",
    "* Фаил с датами открытия и ставками курьеров - `rate`\n",
    "* Фаил с типами курьеров `types`\n",
    "* Фаил с часами курьеров `time`"
   ]
  },
  {
   "cell_type": "code",
   "execution_count": 3,
   "id": "57bb1d4c",
   "metadata": {},
   "outputs": [],
   "source": [
    "order = pd.read_excel(\"orders.xlsx\").rename(columns=mapping)"
   ]
  },
  {
   "cell_type": "code",
   "execution_count": 4,
   "id": "58212e34",
   "metadata": {},
   "outputs": [],
   "source": [
    "rate = pd.read_excel(\"rate.xlsx\").rename(columns=mapping)"
   ]
  },
  {
   "cell_type": "code",
   "execution_count": 5,
   "id": "e2aa5926",
   "metadata": {},
   "outputs": [],
   "source": [
    "types = pd.read_excel(\"types.xlsx\").rename(columns=mapping)"
   ]
  },
  {
   "cell_type": "code",
   "execution_count": 6,
   "id": "12c22735",
   "metadata": {},
   "outputs": [],
   "source": [
    "time = pd.read_excel('time.xlsx').rename(columns=mapping)"
   ]
  },
  {
   "cell_type": "markdown",
   "id": "2a5d428d",
   "metadata": {},
   "source": [
    "### Функции и переменные"
   ]
  },
  {
   "cell_type": "markdown",
   "id": "74f5bd3c",
   "metadata": {},
   "source": [
    "#### функция для изучения данных `info`"
   ]
  },
  {
   "cell_type": "markdown",
   "id": "b3098782",
   "metadata": {},
   "source": [
    "Функция для полного просмотра данных в файлах"
   ]
  },
  {
   "cell_type": "code",
   "execution_count": 7,
   "id": "70dfef76",
   "metadata": {},
   "outputs": [],
   "source": [
    "# функция для знакомства с данными\n",
    "def info(data):\n",
    "    print('\\033[1m' + 'Общая информация о датасете:' + '\\033[0m')\n",
    "    data.info()\n",
    "    print('*'*50)\n",
    "    print('\\033[1m' + 'Статистические характеристики:' + '\\033[0m')\n",
    "    display(data.describe(datetime_is_numeric=True, include='all'))\n",
    "    print('*'*50)\n",
    "    print('\\033[1m' + 'Данные в датасете:' + '\\033[0m')\n",
    "    display(data)\n",
    "    print('*'*50)\n",
    "    display('Количество дубликатов:', data.duplicated().sum())\n",
    "    display('Количество пропусков:', pd.concat([data.isna().sum(), data.isna().mean()], axis=1)\\\n",
    "    .rename(columns={0:'кол-во', 1:'доля'})\\\n",
    "    .style.format({'кол-во':'{:.0f}', 'доля':'{:.2%}'}))"
   ]
  },
  {
   "cell_type": "markdown",
   "id": "d5ebb137",
   "metadata": {},
   "source": [
    "#### функция для расчета оплат `calculation`"
   ]
  },
  {
   "cell_type": "markdown",
   "id": "b265b89e",
   "metadata": {},
   "source": [
    "Переменные по программе новой мотивации(`nm` - new motivation):\n",
    "* `nm_days` если ресторан открылся на доставку менее `X` дней от даты заказа\n",
    "* `nm_hours` если курьер был на смене более `X` часов\n",
    "* `nm_orders` если у курьера было не более `X` заказов за этот день\n",
    "* `nm_fix_sum` сумма которую курьер получает за этот день, заказы за этот день оплате не подлежат"
   ]
  },
  {
   "cell_type": "code",
   "execution_count": 8,
   "id": "886ab2c8",
   "metadata": {},
   "outputs": [],
   "source": [
    "# функция для расчета оплаты курьерам\n",
    "def calculation(data):\n",
    "    \n",
    "#Переменные для расчета новой мотивации\n",
    "    nm_days = 22\n",
    "    nm_hours = 8\n",
    "    nm_orders = 4\n",
    "    nm_fix_sum = 1\n",
    "\n",
    "#Построение расчета\n",
    "\n",
    "    #Расчет фикс оплаты по новой мотивации\n",
    "    if (data['delta_days'] <= timedelta(days=nm_days)) & (data['amount_hours'] >= nm_hours) & (data['count_day_orders'] <= nm_orders):\n",
    "        pay = math.ceil(nm_fix_sum / data['count_day_orders'])\n",
    "        \n",
    "    #расчет стандартный, в случае если не сошлись параметры для новой мотивации    \n",
    "    else:\n",
    "        if (data['courier_type_of_movement'] == 'Авто') &  (data['type_of_delivery_area'] == 'OnCar'):\n",
    "            pay = data['per_order_car']\n",
    "        if (data['courier_type_of_movement'] == 'Авто') &  (data['type_of_delivery_area'] == 'OnBike'):\n",
    "            pay = data['per_order_car']\n",
    "        if (data['courier_type_of_movement'] == 'Авто') &  (data['type_of_delivery_area'] == 'OnFoot'):\n",
    "            pay = data['per_order_car']\n",
    "        if (data['courier_type_of_movement'] == 'Вело') &  (data['type_of_delivery_area'] == 'OnCar'):\n",
    "            pay = data['per_order_car']\n",
    "        if (data['courier_type_of_movement'] == 'Вело') &  (data['type_of_delivery_area'] == 'OnBike'):\n",
    "            pay = data['per_order_bike']\n",
    "        if (data['courier_type_of_movement'] == 'Вело') &  (data['type_of_delivery_area'] == 'OnFoot'):\n",
    "            pay = data['per_order_bike']\n",
    "        if (data['courier_type_of_movement'] == 'Пеший') &  (data['type_of_delivery_area'] == 'OnCar'):\n",
    "            pay = data['per_order_car']\n",
    "        if (data['courier_type_of_movement'] == 'Пеший') &  (data['type_of_delivery_area'] == 'OnBike'):\n",
    "            pay = data['per_order_bike']\n",
    "        if (data['courier_type_of_movement'] == 'Пеший') &  (data['type_of_delivery_area'] == 'OnFoot'):\n",
    "            pay = data['per_order_foot']\n",
    "    \n",
    "    return pay"
   ]
  },
  {
   "cell_type": "markdown",
   "id": "2634bdd6",
   "metadata": {},
   "source": [
    "#### Функция получения `restoran_id`"
   ]
  },
  {
   "cell_type": "code",
   "execution_count": 9,
   "id": "8c0b4474",
   "metadata": {},
   "outputs": [],
   "source": [
    "def get_rest_id(row):\n",
    "    restoran_id = int(row[0:4])\n",
    "    return restoran_id"
   ]
  },
  {
   "cell_type": "markdown",
   "id": "20c5cb0b",
   "metadata": {},
   "source": [
    "#### Списки фильтрации нужных полей из исходного файла"
   ]
  },
  {
   "cell_type": "code",
   "execution_count": 10,
   "id": "add27e1a",
   "metadata": {},
   "outputs": [],
   "source": [
    "orders_filter_list = ['date_time_of_order', 'order_id', 'order_status',\n",
    "                      'order_delivery_type', 'restoran_id', 'courier_type', \n",
    "                      'type_of_delivery_area', 'courier_id']"
   ]
  },
  {
   "cell_type": "markdown",
   "id": "1dbc5a62",
   "metadata": {},
   "source": [
    "## Изучение и обработка данных"
   ]
  },
  {
   "cell_type": "markdown",
   "id": "eb6ea441",
   "metadata": {},
   "source": [
    "### Заказы"
   ]
  },
  {
   "cell_type": "markdown",
   "id": "7d1306cd",
   "metadata": {},
   "source": [
    "#### Изучение"
   ]
  },
  {
   "cell_type": "markdown",
   "id": "fb240edf",
   "metadata": {},
   "source": [
    "Сначала добавлю `restoran_id` в фаил с заказами, использую функцию `get_rest_id`"
   ]
  },
  {
   "cell_type": "code",
   "execution_count": 11,
   "id": "093f61a2",
   "metadata": {},
   "outputs": [],
   "source": [
    "order['restoran_id'] = order['restoran_name'].apply(get_rest_id)"
   ]
  },
  {
   "cell_type": "markdown",
   "id": "95e3cfc9",
   "metadata": {},
   "source": [
    "Теперь оставлю только необходимые для работы столбцы"
   ]
  },
  {
   "cell_type": "code",
   "execution_count": 12,
   "id": "b9064c30",
   "metadata": {},
   "outputs": [],
   "source": [
    "order = order[orders_filter_list]"
   ]
  },
  {
   "cell_type": "markdown",
   "id": "1ff2b134",
   "metadata": {},
   "source": [
    "Посмотрю на данные"
   ]
  },
  {
   "cell_type": "code",
   "execution_count": 13,
   "id": "692a291e",
   "metadata": {
    "scrolled": false
   },
   "outputs": [
    {
     "name": "stdout",
     "output_type": "stream",
     "text": [
      "\u001b[1mОбщая информация о датасете:\u001b[0m\n",
      "<class 'pandas.core.frame.DataFrame'>\n",
      "RangeIndex: 62744 entries, 0 to 62743\n",
      "Data columns (total 8 columns):\n",
      " #   Column                 Non-Null Count  Dtype \n",
      "---  ------                 --------------  ----- \n",
      " 0   date_time_of_order     62744 non-null  object\n",
      " 1   order_id               62744 non-null  int64 \n",
      " 2   order_status           62744 non-null  object\n",
      " 3   order_delivery_type    62744 non-null  object\n",
      " 4   restoran_id            62744 non-null  int64 \n",
      " 5   courier_type           62744 non-null  object\n",
      " 6   type_of_delivery_area  3428 non-null   object\n",
      " 7   courier_id             62744 non-null  object\n",
      "dtypes: int64(2), object(6)\n",
      "memory usage: 3.8+ MB\n",
      "**************************************************\n",
      "\u001b[1mСтатистические характеристики:\u001b[0m\n"
     ]
    },
    {
     "data": {
      "text/html": [
       "<div>\n",
       "<style scoped>\n",
       "    .dataframe tbody tr th:only-of-type {\n",
       "        vertical-align: middle;\n",
       "    }\n",
       "\n",
       "    .dataframe tbody tr th {\n",
       "        vertical-align: top;\n",
       "    }\n",
       "\n",
       "    .dataframe thead th {\n",
       "        text-align: right;\n",
       "    }\n",
       "</style>\n",
       "<table border=\"1\" class=\"dataframe\">\n",
       "  <thead>\n",
       "    <tr style=\"text-align: right;\">\n",
       "      <th></th>\n",
       "      <th>date_time_of_order</th>\n",
       "      <th>order_id</th>\n",
       "      <th>order_status</th>\n",
       "      <th>order_delivery_type</th>\n",
       "      <th>restoran_id</th>\n",
       "      <th>courier_type</th>\n",
       "      <th>type_of_delivery_area</th>\n",
       "      <th>courier_id</th>\n",
       "    </tr>\n",
       "  </thead>\n",
       "  <tbody>\n",
       "    <tr>\n",
       "      <th>count</th>\n",
       "      <td>62744</td>\n",
       "      <td>6.274400e+04</td>\n",
       "      <td>62744</td>\n",
       "      <td>62744</td>\n",
       "      <td>62744.000000</td>\n",
       "      <td>62744</td>\n",
       "      <td>3428</td>\n",
       "      <td>62744</td>\n",
       "    </tr>\n",
       "    <tr>\n",
       "      <th>unique</th>\n",
       "      <td>6078</td>\n",
       "      <td>NaN</td>\n",
       "      <td>1</td>\n",
       "      <td>1</td>\n",
       "      <td>NaN</td>\n",
       "      <td>1</td>\n",
       "      <td>2</td>\n",
       "      <td>983</td>\n",
       "    </tr>\n",
       "    <tr>\n",
       "      <th>top</th>\n",
       "      <td>26-11-2022 17:55</td>\n",
       "      <td>NaN</td>\n",
       "      <td>delivered</td>\n",
       "      <td>OL</td>\n",
       "      <td>NaN</td>\n",
       "      <td>LO</td>\n",
       "      <td>OnFoot</td>\n",
       "      <td>Бур0194949</td>\n",
       "    </tr>\n",
       "    <tr>\n",
       "      <th>freq</th>\n",
       "      <td>38</td>\n",
       "      <td>NaN</td>\n",
       "      <td>62744</td>\n",
       "      <td>62744</td>\n",
       "      <td>NaN</td>\n",
       "      <td>62744</td>\n",
       "      <td>2137</td>\n",
       "      <td>231</td>\n",
       "    </tr>\n",
       "    <tr>\n",
       "      <th>mean</th>\n",
       "      <td>NaN</td>\n",
       "      <td>2.576848e+08</td>\n",
       "      <td>NaN</td>\n",
       "      <td>NaN</td>\n",
       "      <td>548.387750</td>\n",
       "      <td>NaN</td>\n",
       "      <td>NaN</td>\n",
       "      <td>NaN</td>\n",
       "    </tr>\n",
       "    <tr>\n",
       "      <th>std</th>\n",
       "      <td>NaN</td>\n",
       "      <td>2.764577e+05</td>\n",
       "      <td>NaN</td>\n",
       "      <td>NaN</td>\n",
       "      <td>280.182593</td>\n",
       "      <td>NaN</td>\n",
       "      <td>NaN</td>\n",
       "      <td>NaN</td>\n",
       "    </tr>\n",
       "    <tr>\n",
       "      <th>min</th>\n",
       "      <td>NaN</td>\n",
       "      <td>2.571855e+08</td>\n",
       "      <td>NaN</td>\n",
       "      <td>NaN</td>\n",
       "      <td>7.000000</td>\n",
       "      <td>NaN</td>\n",
       "      <td>NaN</td>\n",
       "      <td>NaN</td>\n",
       "    </tr>\n",
       "    <tr>\n",
       "      <th>25%</th>\n",
       "      <td>NaN</td>\n",
       "      <td>2.574440e+08</td>\n",
       "      <td>NaN</td>\n",
       "      <td>NaN</td>\n",
       "      <td>310.000000</td>\n",
       "      <td>NaN</td>\n",
       "      <td>NaN</td>\n",
       "      <td>NaN</td>\n",
       "    </tr>\n",
       "    <tr>\n",
       "      <th>50%</th>\n",
       "      <td>NaN</td>\n",
       "      <td>2.577002e+08</td>\n",
       "      <td>NaN</td>\n",
       "      <td>NaN</td>\n",
       "      <td>561.000000</td>\n",
       "      <td>NaN</td>\n",
       "      <td>NaN</td>\n",
       "      <td>NaN</td>\n",
       "    </tr>\n",
       "    <tr>\n",
       "      <th>75%</th>\n",
       "      <td>NaN</td>\n",
       "      <td>2.579293e+08</td>\n",
       "      <td>NaN</td>\n",
       "      <td>NaN</td>\n",
       "      <td>785.000000</td>\n",
       "      <td>NaN</td>\n",
       "      <td>NaN</td>\n",
       "      <td>NaN</td>\n",
       "    </tr>\n",
       "    <tr>\n",
       "      <th>max</th>\n",
       "      <td>NaN</td>\n",
       "      <td>2.581453e+08</td>\n",
       "      <td>NaN</td>\n",
       "      <td>NaN</td>\n",
       "      <td>1045.000000</td>\n",
       "      <td>NaN</td>\n",
       "      <td>NaN</td>\n",
       "      <td>NaN</td>\n",
       "    </tr>\n",
       "  </tbody>\n",
       "</table>\n",
       "</div>"
      ],
      "text/plain": [
       "       date_time_of_order      order_id order_status order_delivery_type  \\\n",
       "count               62744  6.274400e+04        62744               62744   \n",
       "unique               6078           NaN            1                   1   \n",
       "top      26-11-2022 17:55           NaN    delivered                  OL   \n",
       "freq                   38           NaN        62744               62744   \n",
       "mean                  NaN  2.576848e+08          NaN                 NaN   \n",
       "std                   NaN  2.764577e+05          NaN                 NaN   \n",
       "min                   NaN  2.571855e+08          NaN                 NaN   \n",
       "25%                   NaN  2.574440e+08          NaN                 NaN   \n",
       "50%                   NaN  2.577002e+08          NaN                 NaN   \n",
       "75%                   NaN  2.579293e+08          NaN                 NaN   \n",
       "max                   NaN  2.581453e+08          NaN                 NaN   \n",
       "\n",
       "         restoran_id courier_type type_of_delivery_area  courier_id  \n",
       "count   62744.000000        62744                  3428       62744  \n",
       "unique           NaN            1                     2         983  \n",
       "top              NaN           LO                OnFoot  Бур0194949  \n",
       "freq             NaN        62744                  2137         231  \n",
       "mean      548.387750          NaN                   NaN         NaN  \n",
       "std       280.182593          NaN                   NaN         NaN  \n",
       "min         7.000000          NaN                   NaN         NaN  \n",
       "25%       310.000000          NaN                   NaN         NaN  \n",
       "50%       561.000000          NaN                   NaN         NaN  \n",
       "75%       785.000000          NaN                   NaN         NaN  \n",
       "max      1045.000000          NaN                   NaN         NaN  "
      ]
     },
     "metadata": {},
     "output_type": "display_data"
    },
    {
     "name": "stdout",
     "output_type": "stream",
     "text": [
      "**************************************************\n",
      "\u001b[1mДанные в датасете:\u001b[0m\n"
     ]
    },
    {
     "data": {
      "text/html": [
       "<div>\n",
       "<style scoped>\n",
       "    .dataframe tbody tr th:only-of-type {\n",
       "        vertical-align: middle;\n",
       "    }\n",
       "\n",
       "    .dataframe tbody tr th {\n",
       "        vertical-align: top;\n",
       "    }\n",
       "\n",
       "    .dataframe thead th {\n",
       "        text-align: right;\n",
       "    }\n",
       "</style>\n",
       "<table border=\"1\" class=\"dataframe\">\n",
       "  <thead>\n",
       "    <tr style=\"text-align: right;\">\n",
       "      <th></th>\n",
       "      <th>date_time_of_order</th>\n",
       "      <th>order_id</th>\n",
       "      <th>order_status</th>\n",
       "      <th>order_delivery_type</th>\n",
       "      <th>restoran_id</th>\n",
       "      <th>courier_type</th>\n",
       "      <th>type_of_delivery_area</th>\n",
       "      <th>courier_id</th>\n",
       "    </tr>\n",
       "  </thead>\n",
       "  <tbody>\n",
       "    <tr>\n",
       "      <th>0</th>\n",
       "      <td>20-11-2022 23:38</td>\n",
       "      <td>257186185</td>\n",
       "      <td>delivered</td>\n",
       "      <td>OL</td>\n",
       "      <td>485</td>\n",
       "      <td>LO</td>\n",
       "      <td>NaN</td>\n",
       "      <td>Бур0202727</td>\n",
       "    </tr>\n",
       "    <tr>\n",
       "      <th>1</th>\n",
       "      <td>20-11-2022 23:10</td>\n",
       "      <td>257185574</td>\n",
       "      <td>delivered</td>\n",
       "      <td>OL</td>\n",
       "      <td>213</td>\n",
       "      <td>LO</td>\n",
       "      <td>NaN</td>\n",
       "      <td>Бур0192866</td>\n",
       "    </tr>\n",
       "    <tr>\n",
       "      <th>2</th>\n",
       "      <td>20-11-2022 23:06</td>\n",
       "      <td>257185457</td>\n",
       "      <td>delivered</td>\n",
       "      <td>OL</td>\n",
       "      <td>196</td>\n",
       "      <td>LO</td>\n",
       "      <td>NaN</td>\n",
       "      <td>Бур0204275</td>\n",
       "    </tr>\n",
       "    <tr>\n",
       "      <th>3</th>\n",
       "      <td>20-11-2022 23:41</td>\n",
       "      <td>257186227</td>\n",
       "      <td>delivered</td>\n",
       "      <td>OL</td>\n",
       "      <td>445</td>\n",
       "      <td>LO</td>\n",
       "      <td>OnFoot</td>\n",
       "      <td>Бур0202927</td>\n",
       "    </tr>\n",
       "    <tr>\n",
       "      <th>4</th>\n",
       "      <td>20-11-2022 23:25</td>\n",
       "      <td>257185908</td>\n",
       "      <td>delivered</td>\n",
       "      <td>OL</td>\n",
       "      <td>226</td>\n",
       "      <td>LO</td>\n",
       "      <td>NaN</td>\n",
       "      <td>Бур0162369</td>\n",
       "    </tr>\n",
       "    <tr>\n",
       "      <th>...</th>\n",
       "      <td>...</td>\n",
       "      <td>...</td>\n",
       "      <td>...</td>\n",
       "      <td>...</td>\n",
       "      <td>...</td>\n",
       "      <td>...</td>\n",
       "      <td>...</td>\n",
       "      <td>...</td>\n",
       "    </tr>\n",
       "    <tr>\n",
       "      <th>62739</th>\n",
       "      <td>27-11-2022 23:46</td>\n",
       "      <td>258145348</td>\n",
       "      <td>delivered</td>\n",
       "      <td>OL</td>\n",
       "      <td>100</td>\n",
       "      <td>LO</td>\n",
       "      <td>NaN</td>\n",
       "      <td>Бур0194949</td>\n",
       "    </tr>\n",
       "    <tr>\n",
       "      <th>62740</th>\n",
       "      <td>27-11-2022 23:24</td>\n",
       "      <td>258144992</td>\n",
       "      <td>delivered</td>\n",
       "      <td>OL</td>\n",
       "      <td>100</td>\n",
       "      <td>LO</td>\n",
       "      <td>NaN</td>\n",
       "      <td>Бур0190073</td>\n",
       "    </tr>\n",
       "    <tr>\n",
       "      <th>62741</th>\n",
       "      <td>27-11-2022 22:38</td>\n",
       "      <td>258143685</td>\n",
       "      <td>delivered</td>\n",
       "      <td>OL</td>\n",
       "      <td>610</td>\n",
       "      <td>LO</td>\n",
       "      <td>NaN</td>\n",
       "      <td>Бур0186128</td>\n",
       "    </tr>\n",
       "    <tr>\n",
       "      <th>62742</th>\n",
       "      <td>27-11-2022 23:30</td>\n",
       "      <td>258145100</td>\n",
       "      <td>delivered</td>\n",
       "      <td>OL</td>\n",
       "      <td>213</td>\n",
       "      <td>LO</td>\n",
       "      <td>NaN</td>\n",
       "      <td>Бур0199412</td>\n",
       "    </tr>\n",
       "    <tr>\n",
       "      <th>62743</th>\n",
       "      <td>27-11-2022 22:21</td>\n",
       "      <td>258142979</td>\n",
       "      <td>delivered</td>\n",
       "      <td>OL</td>\n",
       "      <td>621</td>\n",
       "      <td>LO</td>\n",
       "      <td>NaN</td>\n",
       "      <td>Бур0194443</td>\n",
       "    </tr>\n",
       "  </tbody>\n",
       "</table>\n",
       "<p>62744 rows × 8 columns</p>\n",
       "</div>"
      ],
      "text/plain": [
       "      date_time_of_order   order_id order_status order_delivery_type  \\\n",
       "0       20-11-2022 23:38  257186185    delivered                  OL   \n",
       "1       20-11-2022 23:10  257185574    delivered                  OL   \n",
       "2       20-11-2022 23:06  257185457    delivered                  OL   \n",
       "3       20-11-2022 23:41  257186227    delivered                  OL   \n",
       "4       20-11-2022 23:25  257185908    delivered                  OL   \n",
       "...                  ...        ...          ...                 ...   \n",
       "62739   27-11-2022 23:46  258145348    delivered                  OL   \n",
       "62740   27-11-2022 23:24  258144992    delivered                  OL   \n",
       "62741   27-11-2022 22:38  258143685    delivered                  OL   \n",
       "62742   27-11-2022 23:30  258145100    delivered                  OL   \n",
       "62743   27-11-2022 22:21  258142979    delivered                  OL   \n",
       "\n",
       "       restoran_id courier_type type_of_delivery_area  courier_id  \n",
       "0              485           LO                   NaN  Бур0202727  \n",
       "1              213           LO                   NaN  Бур0192866  \n",
       "2              196           LO                   NaN  Бур0204275  \n",
       "3              445           LO                OnFoot  Бур0202927  \n",
       "4              226           LO                   NaN  Бур0162369  \n",
       "...            ...          ...                   ...         ...  \n",
       "62739          100           LO                   NaN  Бур0194949  \n",
       "62740          100           LO                   NaN  Бур0190073  \n",
       "62741          610           LO                   NaN  Бур0186128  \n",
       "62742          213           LO                   NaN  Бур0199412  \n",
       "62743          621           LO                   NaN  Бур0194443  \n",
       "\n",
       "[62744 rows x 8 columns]"
      ]
     },
     "metadata": {},
     "output_type": "display_data"
    },
    {
     "name": "stdout",
     "output_type": "stream",
     "text": [
      "**************************************************\n"
     ]
    },
    {
     "data": {
      "text/plain": [
       "'Количество дубликатов:'"
      ]
     },
     "metadata": {},
     "output_type": "display_data"
    },
    {
     "data": {
      "text/plain": [
       "0"
      ]
     },
     "metadata": {},
     "output_type": "display_data"
    },
    {
     "data": {
      "text/plain": [
       "'Количество пропусков:'"
      ]
     },
     "metadata": {},
     "output_type": "display_data"
    },
    {
     "data": {
      "text/html": [
       "<style type=\"text/css\">\n",
       "</style>\n",
       "<table id=\"T_3f01c_\">\n",
       "  <thead>\n",
       "    <tr>\n",
       "      <th class=\"blank level0\" >&nbsp;</th>\n",
       "      <th class=\"col_heading level0 col0\" >кол-во</th>\n",
       "      <th class=\"col_heading level0 col1\" >доля</th>\n",
       "    </tr>\n",
       "  </thead>\n",
       "  <tbody>\n",
       "    <tr>\n",
       "      <th id=\"T_3f01c_level0_row0\" class=\"row_heading level0 row0\" >date_time_of_order</th>\n",
       "      <td id=\"T_3f01c_row0_col0\" class=\"data row0 col0\" >0</td>\n",
       "      <td id=\"T_3f01c_row0_col1\" class=\"data row0 col1\" >0.00%</td>\n",
       "    </tr>\n",
       "    <tr>\n",
       "      <th id=\"T_3f01c_level0_row1\" class=\"row_heading level0 row1\" >order_id</th>\n",
       "      <td id=\"T_3f01c_row1_col0\" class=\"data row1 col0\" >0</td>\n",
       "      <td id=\"T_3f01c_row1_col1\" class=\"data row1 col1\" >0.00%</td>\n",
       "    </tr>\n",
       "    <tr>\n",
       "      <th id=\"T_3f01c_level0_row2\" class=\"row_heading level0 row2\" >order_status</th>\n",
       "      <td id=\"T_3f01c_row2_col0\" class=\"data row2 col0\" >0</td>\n",
       "      <td id=\"T_3f01c_row2_col1\" class=\"data row2 col1\" >0.00%</td>\n",
       "    </tr>\n",
       "    <tr>\n",
       "      <th id=\"T_3f01c_level0_row3\" class=\"row_heading level0 row3\" >order_delivery_type</th>\n",
       "      <td id=\"T_3f01c_row3_col0\" class=\"data row3 col0\" >0</td>\n",
       "      <td id=\"T_3f01c_row3_col1\" class=\"data row3 col1\" >0.00%</td>\n",
       "    </tr>\n",
       "    <tr>\n",
       "      <th id=\"T_3f01c_level0_row4\" class=\"row_heading level0 row4\" >restoran_id</th>\n",
       "      <td id=\"T_3f01c_row4_col0\" class=\"data row4 col0\" >0</td>\n",
       "      <td id=\"T_3f01c_row4_col1\" class=\"data row4 col1\" >0.00%</td>\n",
       "    </tr>\n",
       "    <tr>\n",
       "      <th id=\"T_3f01c_level0_row5\" class=\"row_heading level0 row5\" >courier_type</th>\n",
       "      <td id=\"T_3f01c_row5_col0\" class=\"data row5 col0\" >0</td>\n",
       "      <td id=\"T_3f01c_row5_col1\" class=\"data row5 col1\" >0.00%</td>\n",
       "    </tr>\n",
       "    <tr>\n",
       "      <th id=\"T_3f01c_level0_row6\" class=\"row_heading level0 row6\" >type_of_delivery_area</th>\n",
       "      <td id=\"T_3f01c_row6_col0\" class=\"data row6 col0\" >59316</td>\n",
       "      <td id=\"T_3f01c_row6_col1\" class=\"data row6 col1\" >94.54%</td>\n",
       "    </tr>\n",
       "    <tr>\n",
       "      <th id=\"T_3f01c_level0_row7\" class=\"row_heading level0 row7\" >courier_id</th>\n",
       "      <td id=\"T_3f01c_row7_col0\" class=\"data row7 col0\" >0</td>\n",
       "      <td id=\"T_3f01c_row7_col1\" class=\"data row7 col1\" >0.00%</td>\n",
       "    </tr>\n",
       "  </tbody>\n",
       "</table>\n"
      ],
      "text/plain": [
       "<pandas.io.formats.style.Styler at 0x1f19cb34708>"
      ]
     },
     "metadata": {},
     "output_type": "display_data"
    }
   ],
   "source": [
    "info(order)"
   ]
  },
  {
   "cell_type": "code",
   "execution_count": 14,
   "id": "f8339be6",
   "metadata": {
    "scrolled": true
   },
   "outputs": [
    {
     "name": "stdout",
     "output_type": "stream",
     "text": [
      "Количество уникальных id ресторанов: 324\n",
      "Уникальные значения поля Тип зоны доставки: [nan 'OnFoot' 'OnBike']\n",
      "Количество заказов: 62744\n",
      "Количество курьеров: 983\n"
     ]
    }
   ],
   "source": [
    "print('Количество уникальных id ресторанов:', order['restoran_id'].nunique())\n",
    "print('Уникальные значения поля Тип зоны доставки:', order['type_of_delivery_area'].unique())\n",
    "print('Количество заказов:', order['order_id'].count())\n",
    "print('Количество курьеров:', order['courier_id'].nunique())"
   ]
  },
  {
   "cell_type": "markdown",
   "id": "0eed9786",
   "metadata": {},
   "source": [
    "#### Обработка"
   ]
  },
  {
   "cell_type": "markdown",
   "id": "9ea7adcc",
   "metadata": {},
   "source": [
    "Разделю дату и время `date_time_of_order` отдельно на дату и время `order_date`, `order_time` переведу в формат даты и времени"
   ]
  },
  {
   "cell_type": "code",
   "execution_count": 15,
   "id": "821b9939",
   "metadata": {},
   "outputs": [],
   "source": [
    "order[['order_date', 'order_time']] = order['date_time_of_order'].str.split(' ', expand=True)\n",
    "order['order_date'] = pd.to_datetime(order['order_date'], format='%d-%m-%Y')\n",
    "order['order_time'] = order['order_time'].astype('datetime64').dt.time"
   ]
  },
  {
   "cell_type": "code",
   "execution_count": 16,
   "id": "4dbbc457",
   "metadata": {},
   "outputs": [
    {
     "data": {
      "text/html": [
       "<div>\n",
       "<style scoped>\n",
       "    .dataframe tbody tr th:only-of-type {\n",
       "        vertical-align: middle;\n",
       "    }\n",
       "\n",
       "    .dataframe tbody tr th {\n",
       "        vertical-align: top;\n",
       "    }\n",
       "\n",
       "    .dataframe thead th {\n",
       "        text-align: right;\n",
       "    }\n",
       "</style>\n",
       "<table border=\"1\" class=\"dataframe\">\n",
       "  <thead>\n",
       "    <tr style=\"text-align: right;\">\n",
       "      <th></th>\n",
       "      <th>date_time_of_order</th>\n",
       "      <th>order_id</th>\n",
       "      <th>order_status</th>\n",
       "      <th>order_delivery_type</th>\n",
       "      <th>restoran_id</th>\n",
       "      <th>courier_type</th>\n",
       "      <th>type_of_delivery_area</th>\n",
       "      <th>courier_id</th>\n",
       "      <th>order_date</th>\n",
       "      <th>order_time</th>\n",
       "    </tr>\n",
       "  </thead>\n",
       "  <tbody>\n",
       "    <tr>\n",
       "      <th>0</th>\n",
       "      <td>20-11-2022 23:38</td>\n",
       "      <td>257186185</td>\n",
       "      <td>delivered</td>\n",
       "      <td>OL</td>\n",
       "      <td>485</td>\n",
       "      <td>LO</td>\n",
       "      <td>NaN</td>\n",
       "      <td>Бур0202727</td>\n",
       "      <td>2022-11-20</td>\n",
       "      <td>23:38:00</td>\n",
       "    </tr>\n",
       "    <tr>\n",
       "      <th>1</th>\n",
       "      <td>20-11-2022 23:10</td>\n",
       "      <td>257185574</td>\n",
       "      <td>delivered</td>\n",
       "      <td>OL</td>\n",
       "      <td>213</td>\n",
       "      <td>LO</td>\n",
       "      <td>NaN</td>\n",
       "      <td>Бур0192866</td>\n",
       "      <td>2022-11-20</td>\n",
       "      <td>23:10:00</td>\n",
       "    </tr>\n",
       "    <tr>\n",
       "      <th>2</th>\n",
       "      <td>20-11-2022 23:06</td>\n",
       "      <td>257185457</td>\n",
       "      <td>delivered</td>\n",
       "      <td>OL</td>\n",
       "      <td>196</td>\n",
       "      <td>LO</td>\n",
       "      <td>NaN</td>\n",
       "      <td>Бур0204275</td>\n",
       "      <td>2022-11-20</td>\n",
       "      <td>23:06:00</td>\n",
       "    </tr>\n",
       "    <tr>\n",
       "      <th>3</th>\n",
       "      <td>20-11-2022 23:41</td>\n",
       "      <td>257186227</td>\n",
       "      <td>delivered</td>\n",
       "      <td>OL</td>\n",
       "      <td>445</td>\n",
       "      <td>LO</td>\n",
       "      <td>OnFoot</td>\n",
       "      <td>Бур0202927</td>\n",
       "      <td>2022-11-20</td>\n",
       "      <td>23:41:00</td>\n",
       "    </tr>\n",
       "    <tr>\n",
       "      <th>4</th>\n",
       "      <td>20-11-2022 23:25</td>\n",
       "      <td>257185908</td>\n",
       "      <td>delivered</td>\n",
       "      <td>OL</td>\n",
       "      <td>226</td>\n",
       "      <td>LO</td>\n",
       "      <td>NaN</td>\n",
       "      <td>Бур0162369</td>\n",
       "      <td>2022-11-20</td>\n",
       "      <td>23:25:00</td>\n",
       "    </tr>\n",
       "  </tbody>\n",
       "</table>\n",
       "</div>"
      ],
      "text/plain": [
       "  date_time_of_order   order_id order_status order_delivery_type  restoran_id  \\\n",
       "0   20-11-2022 23:38  257186185    delivered                  OL          485   \n",
       "1   20-11-2022 23:10  257185574    delivered                  OL          213   \n",
       "2   20-11-2022 23:06  257185457    delivered                  OL          196   \n",
       "3   20-11-2022 23:41  257186227    delivered                  OL          445   \n",
       "4   20-11-2022 23:25  257185908    delivered                  OL          226   \n",
       "\n",
       "  courier_type type_of_delivery_area  courier_id order_date order_time  \n",
       "0           LO                   NaN  Бур0202727 2022-11-20   23:38:00  \n",
       "1           LO                   NaN  Бур0192866 2022-11-20   23:10:00  \n",
       "2           LO                   NaN  Бур0204275 2022-11-20   23:06:00  \n",
       "3           LO                OnFoot  Бур0202927 2022-11-20   23:41:00  \n",
       "4           LO                   NaN  Бур0162369 2022-11-20   23:25:00  "
      ]
     },
     "metadata": {},
     "output_type": "display_data"
    },
    {
     "name": "stdout",
     "output_type": "stream",
     "text": [
      "Количество заказов: 62744\n"
     ]
    }
   ],
   "source": [
    "display(order.head())\n",
    "print('Количество заказов:', order['order_id'].count())"
   ]
  },
  {
   "cell_type": "markdown",
   "id": "e9c03d95",
   "metadata": {},
   "source": [
    "Замена пропусков в типе зоны доставки на `OnCar`"
   ]
  },
  {
   "cell_type": "code",
   "execution_count": 17,
   "id": "3390b9da",
   "metadata": {},
   "outputs": [
    {
     "data": {
      "text/plain": [
       "(62744, 10)"
      ]
     },
     "execution_count": 17,
     "metadata": {},
     "output_type": "execute_result"
    }
   ],
   "source": [
    "order[\"type_of_delivery_area\"] = order[\"type_of_delivery_area\"].fillna('OnCar')\n",
    "order.shape"
   ]
  },
  {
   "cell_type": "code",
   "execution_count": 18,
   "id": "0b7fee6a",
   "metadata": {
    "scrolled": false
   },
   "outputs": [
    {
     "data": {
      "text/html": [
       "<div>\n",
       "<style scoped>\n",
       "    .dataframe tbody tr th:only-of-type {\n",
       "        vertical-align: middle;\n",
       "    }\n",
       "\n",
       "    .dataframe tbody tr th {\n",
       "        vertical-align: top;\n",
       "    }\n",
       "\n",
       "    .dataframe thead th {\n",
       "        text-align: right;\n",
       "    }\n",
       "</style>\n",
       "<table border=\"1\" class=\"dataframe\">\n",
       "  <thead>\n",
       "    <tr style=\"text-align: right;\">\n",
       "      <th></th>\n",
       "      <th>date_time_of_order</th>\n",
       "      <th>order_id</th>\n",
       "      <th>order_status</th>\n",
       "      <th>order_delivery_type</th>\n",
       "      <th>restoran_id</th>\n",
       "      <th>courier_type</th>\n",
       "      <th>type_of_delivery_area</th>\n",
       "      <th>courier_id</th>\n",
       "      <th>order_date</th>\n",
       "      <th>order_time</th>\n",
       "    </tr>\n",
       "  </thead>\n",
       "  <tbody>\n",
       "    <tr>\n",
       "      <th>0</th>\n",
       "      <td>20-11-2022 23:38</td>\n",
       "      <td>257186185</td>\n",
       "      <td>delivered</td>\n",
       "      <td>OL</td>\n",
       "      <td>485</td>\n",
       "      <td>LO</td>\n",
       "      <td>OnCar</td>\n",
       "      <td>Бур0202727</td>\n",
       "      <td>2022-11-20</td>\n",
       "      <td>23:38:00</td>\n",
       "    </tr>\n",
       "    <tr>\n",
       "      <th>1</th>\n",
       "      <td>20-11-2022 23:10</td>\n",
       "      <td>257185574</td>\n",
       "      <td>delivered</td>\n",
       "      <td>OL</td>\n",
       "      <td>213</td>\n",
       "      <td>LO</td>\n",
       "      <td>OnCar</td>\n",
       "      <td>Бур0192866</td>\n",
       "      <td>2022-11-20</td>\n",
       "      <td>23:10:00</td>\n",
       "    </tr>\n",
       "    <tr>\n",
       "      <th>2</th>\n",
       "      <td>20-11-2022 23:06</td>\n",
       "      <td>257185457</td>\n",
       "      <td>delivered</td>\n",
       "      <td>OL</td>\n",
       "      <td>196</td>\n",
       "      <td>LO</td>\n",
       "      <td>OnCar</td>\n",
       "      <td>Бур0204275</td>\n",
       "      <td>2022-11-20</td>\n",
       "      <td>23:06:00</td>\n",
       "    </tr>\n",
       "    <tr>\n",
       "      <th>3</th>\n",
       "      <td>20-11-2022 23:41</td>\n",
       "      <td>257186227</td>\n",
       "      <td>delivered</td>\n",
       "      <td>OL</td>\n",
       "      <td>445</td>\n",
       "      <td>LO</td>\n",
       "      <td>OnFoot</td>\n",
       "      <td>Бур0202927</td>\n",
       "      <td>2022-11-20</td>\n",
       "      <td>23:41:00</td>\n",
       "    </tr>\n",
       "    <tr>\n",
       "      <th>4</th>\n",
       "      <td>20-11-2022 23:25</td>\n",
       "      <td>257185908</td>\n",
       "      <td>delivered</td>\n",
       "      <td>OL</td>\n",
       "      <td>226</td>\n",
       "      <td>LO</td>\n",
       "      <td>OnCar</td>\n",
       "      <td>Бур0162369</td>\n",
       "      <td>2022-11-20</td>\n",
       "      <td>23:25:00</td>\n",
       "    </tr>\n",
       "  </tbody>\n",
       "</table>\n",
       "</div>"
      ],
      "text/plain": [
       "  date_time_of_order   order_id order_status order_delivery_type  restoran_id  \\\n",
       "0   20-11-2022 23:38  257186185    delivered                  OL          485   \n",
       "1   20-11-2022 23:10  257185574    delivered                  OL          213   \n",
       "2   20-11-2022 23:06  257185457    delivered                  OL          196   \n",
       "3   20-11-2022 23:41  257186227    delivered                  OL          445   \n",
       "4   20-11-2022 23:25  257185908    delivered                  OL          226   \n",
       "\n",
       "  courier_type type_of_delivery_area  courier_id order_date order_time  \n",
       "0           LO                 OnCar  Бур0202727 2022-11-20   23:38:00  \n",
       "1           LO                 OnCar  Бур0192866 2022-11-20   23:10:00  \n",
       "2           LO                 OnCar  Бур0204275 2022-11-20   23:06:00  \n",
       "3           LO                OnFoot  Бур0202927 2022-11-20   23:41:00  \n",
       "4           LO                 OnCar  Бур0162369 2022-11-20   23:25:00  "
      ]
     },
     "metadata": {},
     "output_type": "display_data"
    },
    {
     "name": "stdout",
     "output_type": "stream",
     "text": [
      "Уникальные значения поля Тип зоны доставки: ['OnCar' 'OnFoot' 'OnBike']\n",
      "Количество заказов: 62744\n"
     ]
    }
   ],
   "source": [
    "display(order.head())\n",
    "print('Уникальные значения поля Тип зоны доставки:', order['type_of_delivery_area'].unique())\n",
    "print('Количество заказов:', order['order_id'].count())"
   ]
  },
  {
   "cell_type": "markdown",
   "id": "8ca73f71",
   "metadata": {},
   "source": [
    "### Ставки курьеров"
   ]
  },
  {
   "cell_type": "markdown",
   "id": "5fcd0160",
   "metadata": {},
   "source": [
    "#### Изучение"
   ]
  },
  {
   "cell_type": "code",
   "execution_count": 19,
   "id": "ee864555",
   "metadata": {
    "scrolled": true
   },
   "outputs": [
    {
     "name": "stdout",
     "output_type": "stream",
     "text": [
      "\u001b[1mОбщая информация о датасете:\u001b[0m\n",
      "<class 'pandas.core.frame.DataFrame'>\n",
      "RangeIndex: 611 entries, 0 to 610\n",
      "Data columns (total 6 columns):\n",
      " #   Column          Non-Null Count  Dtype         \n",
      "---  ------          --------------  -----         \n",
      " 0   date_on         611 non-null    datetime64[ns]\n",
      " 1   restoran_id     611 non-null    int64         \n",
      " 2   per_order_car   611 non-null    float64       \n",
      " 3   per_order_bike  611 non-null    float64       \n",
      " 4   per_order_foot  611 non-null    float64       \n",
      " 5   date_off        258 non-null    datetime64[ns]\n",
      "dtypes: datetime64[ns](2), float64(3), int64(1)\n",
      "memory usage: 28.8 KB\n",
      "**************************************************\n",
      "\u001b[1mСтатистические характеристики:\u001b[0m\n"
     ]
    },
    {
     "data": {
      "text/html": [
       "<div>\n",
       "<style scoped>\n",
       "    .dataframe tbody tr th:only-of-type {\n",
       "        vertical-align: middle;\n",
       "    }\n",
       "\n",
       "    .dataframe tbody tr th {\n",
       "        vertical-align: top;\n",
       "    }\n",
       "\n",
       "    .dataframe thead th {\n",
       "        text-align: right;\n",
       "    }\n",
       "</style>\n",
       "<table border=\"1\" class=\"dataframe\">\n",
       "  <thead>\n",
       "    <tr style=\"text-align: right;\">\n",
       "      <th></th>\n",
       "      <th>date_on</th>\n",
       "      <th>restoran_id</th>\n",
       "      <th>per_order_car</th>\n",
       "      <th>per_order_bike</th>\n",
       "      <th>per_order_foot</th>\n",
       "      <th>date_off</th>\n",
       "    </tr>\n",
       "  </thead>\n",
       "  <tbody>\n",
       "    <tr>\n",
       "      <th>count</th>\n",
       "      <td>611</td>\n",
       "      <td>611.000000</td>\n",
       "      <td>611.000000</td>\n",
       "      <td>611.000000</td>\n",
       "      <td>611.000000</td>\n",
       "      <td>258</td>\n",
       "    </tr>\n",
       "    <tr>\n",
       "      <th>mean</th>\n",
       "      <td>2022-02-06 09:20:54.991816704</td>\n",
       "      <td>563.509002</td>\n",
       "      <td>1.527741</td>\n",
       "      <td>1.328069</td>\n",
       "      <td>1.128723</td>\n",
       "      <td>2022-05-07 20:27:54.418604544</td>\n",
       "    </tr>\n",
       "    <tr>\n",
       "      <th>min</th>\n",
       "      <td>2020-08-30 00:00:00</td>\n",
       "      <td>7.000000</td>\n",
       "      <td>0.700000</td>\n",
       "      <td>0.500000</td>\n",
       "      <td>0.300000</td>\n",
       "      <td>2021-04-06 00:00:00</td>\n",
       "    </tr>\n",
       "    <tr>\n",
       "      <th>25%</th>\n",
       "      <td>2021-10-04 12:00:00</td>\n",
       "      <td>318.000000</td>\n",
       "      <td>1.500000</td>\n",
       "      <td>1.300000</td>\n",
       "      <td>1.100000</td>\n",
       "      <td>2022-02-11 12:00:00</td>\n",
       "    </tr>\n",
       "    <tr>\n",
       "      <th>50%</th>\n",
       "      <td>2022-03-14 00:00:00</td>\n",
       "      <td>586.000000</td>\n",
       "      <td>1.600000</td>\n",
       "      <td>1.400000</td>\n",
       "      <td>1.200000</td>\n",
       "      <td>2022-05-31 00:00:00</td>\n",
       "    </tr>\n",
       "    <tr>\n",
       "      <th>75%</th>\n",
       "      <td>2022-07-01 00:00:00</td>\n",
       "      <td>811.000000</td>\n",
       "      <td>1.800000</td>\n",
       "      <td>1.600000</td>\n",
       "      <td>1.400000</td>\n",
       "      <td>2022-07-31 00:00:00</td>\n",
       "    </tr>\n",
       "    <tr>\n",
       "      <th>max</th>\n",
       "      <td>2022-11-28 00:00:00</td>\n",
       "      <td>1045.000000</td>\n",
       "      <td>2.000000</td>\n",
       "      <td>2.000000</td>\n",
       "      <td>2.000000</td>\n",
       "      <td>2022-11-27 00:00:00</td>\n",
       "    </tr>\n",
       "    <tr>\n",
       "      <th>std</th>\n",
       "      <td>NaN</td>\n",
       "      <td>284.415180</td>\n",
       "      <td>0.282661</td>\n",
       "      <td>0.283324</td>\n",
       "      <td>0.284644</td>\n",
       "      <td>NaN</td>\n",
       "    </tr>\n",
       "  </tbody>\n",
       "</table>\n",
       "</div>"
      ],
      "text/plain": [
       "                             date_on  restoran_id  per_order_car  \\\n",
       "count                            611   611.000000     611.000000   \n",
       "mean   2022-02-06 09:20:54.991816704   563.509002       1.527741   \n",
       "min              2020-08-30 00:00:00     7.000000       0.700000   \n",
       "25%              2021-10-04 12:00:00   318.000000       1.500000   \n",
       "50%              2022-03-14 00:00:00   586.000000       1.600000   \n",
       "75%              2022-07-01 00:00:00   811.000000       1.800000   \n",
       "max              2022-11-28 00:00:00  1045.000000       2.000000   \n",
       "std                              NaN   284.415180       0.282661   \n",
       "\n",
       "       per_order_bike  per_order_foot                       date_off  \n",
       "count      611.000000      611.000000                            258  \n",
       "mean         1.328069        1.128723  2022-05-07 20:27:54.418604544  \n",
       "min          0.500000        0.300000            2021-04-06 00:00:00  \n",
       "25%          1.300000        1.100000            2022-02-11 12:00:00  \n",
       "50%          1.400000        1.200000            2022-05-31 00:00:00  \n",
       "75%          1.600000        1.400000            2022-07-31 00:00:00  \n",
       "max          2.000000        2.000000            2022-11-27 00:00:00  \n",
       "std          0.283324        0.284644                            NaN  "
      ]
     },
     "metadata": {},
     "output_type": "display_data"
    },
    {
     "name": "stdout",
     "output_type": "stream",
     "text": [
      "**************************************************\n",
      "\u001b[1mДанные в датасете:\u001b[0m\n"
     ]
    },
    {
     "data": {
      "text/html": [
       "<div>\n",
       "<style scoped>\n",
       "    .dataframe tbody tr th:only-of-type {\n",
       "        vertical-align: middle;\n",
       "    }\n",
       "\n",
       "    .dataframe tbody tr th {\n",
       "        vertical-align: top;\n",
       "    }\n",
       "\n",
       "    .dataframe thead th {\n",
       "        text-align: right;\n",
       "    }\n",
       "</style>\n",
       "<table border=\"1\" class=\"dataframe\">\n",
       "  <thead>\n",
       "    <tr style=\"text-align: right;\">\n",
       "      <th></th>\n",
       "      <th>date_on</th>\n",
       "      <th>restoran_id</th>\n",
       "      <th>per_order_car</th>\n",
       "      <th>per_order_bike</th>\n",
       "      <th>per_order_foot</th>\n",
       "      <th>date_off</th>\n",
       "    </tr>\n",
       "  </thead>\n",
       "  <tbody>\n",
       "    <tr>\n",
       "      <th>0</th>\n",
       "      <td>2020-08-30</td>\n",
       "      <td>97</td>\n",
       "      <td>1.0</td>\n",
       "      <td>0.8</td>\n",
       "      <td>0.6</td>\n",
       "      <td>2021-09-30</td>\n",
       "    </tr>\n",
       "    <tr>\n",
       "      <th>1</th>\n",
       "      <td>2020-09-01</td>\n",
       "      <td>502</td>\n",
       "      <td>1.0</td>\n",
       "      <td>0.8</td>\n",
       "      <td>0.6</td>\n",
       "      <td>2022-02-28</td>\n",
       "    </tr>\n",
       "    <tr>\n",
       "      <th>2</th>\n",
       "      <td>2020-09-01</td>\n",
       "      <td>748</td>\n",
       "      <td>1.0</td>\n",
       "      <td>0.8</td>\n",
       "      <td>0.6</td>\n",
       "      <td>2022-02-28</td>\n",
       "    </tr>\n",
       "    <tr>\n",
       "      <th>3</th>\n",
       "      <td>2020-09-14</td>\n",
       "      <td>98</td>\n",
       "      <td>1.0</td>\n",
       "      <td>0.8</td>\n",
       "      <td>0.6</td>\n",
       "      <td>2021-09-30</td>\n",
       "    </tr>\n",
       "    <tr>\n",
       "      <th>4</th>\n",
       "      <td>2020-09-14</td>\n",
       "      <td>706</td>\n",
       "      <td>1.0</td>\n",
       "      <td>0.8</td>\n",
       "      <td>0.6</td>\n",
       "      <td>2021-09-30</td>\n",
       "    </tr>\n",
       "    <tr>\n",
       "      <th>...</th>\n",
       "      <td>...</td>\n",
       "      <td>...</td>\n",
       "      <td>...</td>\n",
       "      <td>...</td>\n",
       "      <td>...</td>\n",
       "      <td>...</td>\n",
       "    </tr>\n",
       "    <tr>\n",
       "      <th>606</th>\n",
       "      <td>2022-11-28</td>\n",
       "      <td>370</td>\n",
       "      <td>1.7</td>\n",
       "      <td>1.5</td>\n",
       "      <td>1.3</td>\n",
       "      <td>NaT</td>\n",
       "    </tr>\n",
       "    <tr>\n",
       "      <th>607</th>\n",
       "      <td>2022-11-28</td>\n",
       "      <td>973</td>\n",
       "      <td>1.7</td>\n",
       "      <td>1.5</td>\n",
       "      <td>1.3</td>\n",
       "      <td>NaT</td>\n",
       "    </tr>\n",
       "    <tr>\n",
       "      <th>608</th>\n",
       "      <td>2022-11-28</td>\n",
       "      <td>874</td>\n",
       "      <td>1.7</td>\n",
       "      <td>1.5</td>\n",
       "      <td>1.3</td>\n",
       "      <td>NaT</td>\n",
       "    </tr>\n",
       "    <tr>\n",
       "      <th>609</th>\n",
       "      <td>2022-11-28</td>\n",
       "      <td>481</td>\n",
       "      <td>1.7</td>\n",
       "      <td>1.5</td>\n",
       "      <td>1.3</td>\n",
       "      <td>NaT</td>\n",
       "    </tr>\n",
       "    <tr>\n",
       "      <th>610</th>\n",
       "      <td>2022-11-28</td>\n",
       "      <td>807</td>\n",
       "      <td>1.7</td>\n",
       "      <td>1.5</td>\n",
       "      <td>1.3</td>\n",
       "      <td>NaT</td>\n",
       "    </tr>\n",
       "  </tbody>\n",
       "</table>\n",
       "<p>611 rows × 6 columns</p>\n",
       "</div>"
      ],
      "text/plain": [
       "       date_on  restoran_id  per_order_car  per_order_bike  per_order_foot  \\\n",
       "0   2020-08-30           97            1.0             0.8             0.6   \n",
       "1   2020-09-01          502            1.0             0.8             0.6   \n",
       "2   2020-09-01          748            1.0             0.8             0.6   \n",
       "3   2020-09-14           98            1.0             0.8             0.6   \n",
       "4   2020-09-14          706            1.0             0.8             0.6   \n",
       "..         ...          ...            ...             ...             ...   \n",
       "606 2022-11-28          370            1.7             1.5             1.3   \n",
       "607 2022-11-28          973            1.7             1.5             1.3   \n",
       "608 2022-11-28          874            1.7             1.5             1.3   \n",
       "609 2022-11-28          481            1.7             1.5             1.3   \n",
       "610 2022-11-28          807            1.7             1.5             1.3   \n",
       "\n",
       "      date_off  \n",
       "0   2021-09-30  \n",
       "1   2022-02-28  \n",
       "2   2022-02-28  \n",
       "3   2021-09-30  \n",
       "4   2021-09-30  \n",
       "..         ...  \n",
       "606        NaT  \n",
       "607        NaT  \n",
       "608        NaT  \n",
       "609        NaT  \n",
       "610        NaT  \n",
       "\n",
       "[611 rows x 6 columns]"
      ]
     },
     "metadata": {},
     "output_type": "display_data"
    },
    {
     "name": "stdout",
     "output_type": "stream",
     "text": [
      "**************************************************\n"
     ]
    },
    {
     "data": {
      "text/plain": [
       "'Количество дубликатов:'"
      ]
     },
     "metadata": {},
     "output_type": "display_data"
    },
    {
     "data": {
      "text/plain": [
       "0"
      ]
     },
     "metadata": {},
     "output_type": "display_data"
    },
    {
     "data": {
      "text/plain": [
       "'Количество пропусков:'"
      ]
     },
     "metadata": {},
     "output_type": "display_data"
    },
    {
     "data": {
      "text/html": [
       "<style type=\"text/css\">\n",
       "</style>\n",
       "<table id=\"T_72642_\">\n",
       "  <thead>\n",
       "    <tr>\n",
       "      <th class=\"blank level0\" >&nbsp;</th>\n",
       "      <th class=\"col_heading level0 col0\" >кол-во</th>\n",
       "      <th class=\"col_heading level0 col1\" >доля</th>\n",
       "    </tr>\n",
       "  </thead>\n",
       "  <tbody>\n",
       "    <tr>\n",
       "      <th id=\"T_72642_level0_row0\" class=\"row_heading level0 row0\" >date_on</th>\n",
       "      <td id=\"T_72642_row0_col0\" class=\"data row0 col0\" >0</td>\n",
       "      <td id=\"T_72642_row0_col1\" class=\"data row0 col1\" >0.00%</td>\n",
       "    </tr>\n",
       "    <tr>\n",
       "      <th id=\"T_72642_level0_row1\" class=\"row_heading level0 row1\" >restoran_id</th>\n",
       "      <td id=\"T_72642_row1_col0\" class=\"data row1 col0\" >0</td>\n",
       "      <td id=\"T_72642_row1_col1\" class=\"data row1 col1\" >0.00%</td>\n",
       "    </tr>\n",
       "    <tr>\n",
       "      <th id=\"T_72642_level0_row2\" class=\"row_heading level0 row2\" >per_order_car</th>\n",
       "      <td id=\"T_72642_row2_col0\" class=\"data row2 col0\" >0</td>\n",
       "      <td id=\"T_72642_row2_col1\" class=\"data row2 col1\" >0.00%</td>\n",
       "    </tr>\n",
       "    <tr>\n",
       "      <th id=\"T_72642_level0_row3\" class=\"row_heading level0 row3\" >per_order_bike</th>\n",
       "      <td id=\"T_72642_row3_col0\" class=\"data row3 col0\" >0</td>\n",
       "      <td id=\"T_72642_row3_col1\" class=\"data row3 col1\" >0.00%</td>\n",
       "    </tr>\n",
       "    <tr>\n",
       "      <th id=\"T_72642_level0_row4\" class=\"row_heading level0 row4\" >per_order_foot</th>\n",
       "      <td id=\"T_72642_row4_col0\" class=\"data row4 col0\" >0</td>\n",
       "      <td id=\"T_72642_row4_col1\" class=\"data row4 col1\" >0.00%</td>\n",
       "    </tr>\n",
       "    <tr>\n",
       "      <th id=\"T_72642_level0_row5\" class=\"row_heading level0 row5\" >date_off</th>\n",
       "      <td id=\"T_72642_row5_col0\" class=\"data row5 col0\" >353</td>\n",
       "      <td id=\"T_72642_row5_col1\" class=\"data row5 col1\" >57.77%</td>\n",
       "    </tr>\n",
       "  </tbody>\n",
       "</table>\n"
      ],
      "text/plain": [
       "<pandas.io.formats.style.Styler at 0x1f19eb75c88>"
      ]
     },
     "metadata": {},
     "output_type": "display_data"
    }
   ],
   "source": [
    "info(rate)"
   ]
  },
  {
   "cell_type": "code",
   "execution_count": 20,
   "id": "562047f4",
   "metadata": {
    "scrolled": true
   },
   "outputs": [
    {
     "name": "stdout",
     "output_type": "stream",
     "text": [
      "Количество уникальных id ресторанов: 392\n",
      "Уникальные ставки в per_order_car: [1.   0.7  1.2  1.3  1.5  1.55 1.6  1.7  1.65 1.8  2.   1.4  1.9 ]\n",
      "Уникальные ставки в per_order_bike: [0.8  0.5  1.   1.1  1.3  1.35 1.4  1.5  1.45 1.6  2.   1.2  1.7 ]\n",
      "Уникальные ставки в per_order_foot: [0.6  0.3  0.8  0.9  1.1  1.15 1.2  1.3  1.25 1.4  1.6  2.   1.   1.5 ]\n"
     ]
    }
   ],
   "source": [
    "print('Количество уникальных id ресторанов:', rate['restoran_id'].nunique())\n",
    "print('Уникальные ставки в per_order_car:', rate['per_order_car'].unique())\n",
    "print('Уникальные ставки в per_order_bike:', rate['per_order_bike'].unique())\n",
    "print('Уникальные ставки в per_order_foot:', rate['per_order_foot'].unique())"
   ]
  },
  {
   "cell_type": "markdown",
   "id": "246982de",
   "metadata": {},
   "source": [
    "#### Проверка на дубликаты"
   ]
  },
  {
   "cell_type": "markdown",
   "id": "8f907f2b",
   "metadata": {},
   "source": [
    "Действующая ставка может быть только одна, значит если `restoran_id` встречается более 1 раза, там где нет даты завершения - то есть ошибка"
   ]
  },
  {
   "cell_type": "code",
   "execution_count": 21,
   "id": "65612db9",
   "metadata": {},
   "outputs": [
    {
     "data": {
      "text/plain": [
       "Series([], dtype: int64)"
      ]
     },
     "execution_count": 21,
     "metadata": {},
     "output_type": "execute_result"
    }
   ],
   "source": [
    "bad_rate = rate[rate['date_off'].isna()].value_counts('restoran_id', ascending=False).loc [ lambda x : x > 1]\n",
    "bad_rate"
   ]
  },
  {
   "cell_type": "markdown",
   "id": "204a98db",
   "metadata": {},
   "source": [
    "#### Обработка"
   ]
  },
  {
   "cell_type": "markdown",
   "id": "f881ea34",
   "metadata": {},
   "source": [
    "Поменяю форматы дат"
   ]
  },
  {
   "cell_type": "code",
   "execution_count": 22,
   "id": "a696589c",
   "metadata": {},
   "outputs": [],
   "source": [
    "rate[\"date_on\"] = pd.to_datetime(rate[\"date_on\"], format='%Y-%m-%d')"
   ]
  },
  {
   "cell_type": "code",
   "execution_count": 23,
   "id": "00de0480",
   "metadata": {},
   "outputs": [],
   "source": [
    "rate[\"date_off\"] = pd.to_datetime(rate[\"date_off\"], format='%Y-%m-%d')"
   ]
  },
  {
   "cell_type": "markdown",
   "id": "9e491a83",
   "metadata": {},
   "source": [
    "Добавлю столбец с датой открытия ресторана - это минимальная дата по `date_on` встречающаяся в данных"
   ]
  },
  {
   "cell_type": "code",
   "execution_count": 24,
   "id": "8406e3d0",
   "metadata": {},
   "outputs": [],
   "source": [
    "rate['date_open_restoran'] = np.nan\n",
    "rate['date_open_restoran'] = rate['date_open_restoran'].fillna(rate.groupby(\"restoran_id\")[\"date_on\"].transform(\"min\"))"
   ]
  },
  {
   "cell_type": "markdown",
   "id": "77690c4a",
   "metadata": {},
   "source": [
    "* Меняю пропуски в дате окончания работы на текущую дату, т.к. если даты нет значит ставка действующая. \n",
    "* меняю тип данных на дату"
   ]
  },
  {
   "cell_type": "code",
   "execution_count": 25,
   "id": "2ba031eb",
   "metadata": {
    "scrolled": true
   },
   "outputs": [],
   "source": [
    "rate[\"date_off\"] = rate[\"date_off\"].fillna(date.today())\n",
    "rate[\"date_off\"] = pd.to_datetime(rate[\"date_off\"], format='%Y-%m-%d')"
   ]
  },
  {
   "cell_type": "code",
   "execution_count": 26,
   "id": "19425e4c",
   "metadata": {
    "scrolled": false
   },
   "outputs": [
    {
     "name": "stdout",
     "output_type": "stream",
     "text": [
      "<class 'pandas.core.frame.DataFrame'>\n",
      "RangeIndex: 611 entries, 0 to 610\n",
      "Data columns (total 7 columns):\n",
      " #   Column              Non-Null Count  Dtype         \n",
      "---  ------              --------------  -----         \n",
      " 0   date_on             611 non-null    datetime64[ns]\n",
      " 1   restoran_id         611 non-null    int64         \n",
      " 2   per_order_car       611 non-null    float64       \n",
      " 3   per_order_bike      611 non-null    float64       \n",
      " 4   per_order_foot      611 non-null    float64       \n",
      " 5   date_off            611 non-null    datetime64[ns]\n",
      " 6   date_open_restoran  611 non-null    datetime64[ns]\n",
      "dtypes: datetime64[ns](3), float64(3), int64(1)\n",
      "memory usage: 33.5 KB\n"
     ]
    },
    {
     "data": {
      "text/plain": [
       "None"
      ]
     },
     "metadata": {},
     "output_type": "display_data"
    },
    {
     "data": {
      "text/html": [
       "<div>\n",
       "<style scoped>\n",
       "    .dataframe tbody tr th:only-of-type {\n",
       "        vertical-align: middle;\n",
       "    }\n",
       "\n",
       "    .dataframe tbody tr th {\n",
       "        vertical-align: top;\n",
       "    }\n",
       "\n",
       "    .dataframe thead th {\n",
       "        text-align: right;\n",
       "    }\n",
       "</style>\n",
       "<table border=\"1\" class=\"dataframe\">\n",
       "  <thead>\n",
       "    <tr style=\"text-align: right;\">\n",
       "      <th></th>\n",
       "      <th>date_on</th>\n",
       "      <th>restoran_id</th>\n",
       "      <th>per_order_car</th>\n",
       "      <th>per_order_bike</th>\n",
       "      <th>per_order_foot</th>\n",
       "      <th>date_off</th>\n",
       "      <th>date_open_restoran</th>\n",
       "    </tr>\n",
       "  </thead>\n",
       "  <tbody>\n",
       "    <tr>\n",
       "      <th>559</th>\n",
       "      <td>2022-09-01</td>\n",
       "      <td>22</td>\n",
       "      <td>1.4</td>\n",
       "      <td>1.2</td>\n",
       "      <td>1.0</td>\n",
       "      <td>2022-09-25</td>\n",
       "      <td>2022-09-01</td>\n",
       "    </tr>\n",
       "    <tr>\n",
       "      <th>574</th>\n",
       "      <td>2022-09-26</td>\n",
       "      <td>22</td>\n",
       "      <td>1.8</td>\n",
       "      <td>1.6</td>\n",
       "      <td>1.4</td>\n",
       "      <td>2022-12-06</td>\n",
       "      <td>2022-09-01</td>\n",
       "    </tr>\n",
       "  </tbody>\n",
       "</table>\n",
       "</div>"
      ],
      "text/plain": [
       "       date_on  restoran_id  per_order_car  per_order_bike  per_order_foot  \\\n",
       "559 2022-09-01           22            1.4             1.2             1.0   \n",
       "574 2022-09-26           22            1.8             1.6             1.4   \n",
       "\n",
       "      date_off date_open_restoran  \n",
       "559 2022-09-25         2022-09-01  \n",
       "574 2022-12-06         2022-09-01  "
      ]
     },
     "metadata": {},
     "output_type": "display_data"
    },
    {
     "data": {
      "text/plain": [
       "(611, 7)"
      ]
     },
     "execution_count": 26,
     "metadata": {},
     "output_type": "execute_result"
    }
   ],
   "source": [
    "display(rate.info())\n",
    "display(rate.loc[rate['restoran_id'] == 22])\n",
    "rate.shape"
   ]
  },
  {
   "cell_type": "markdown",
   "id": "aa92d164",
   "metadata": {},
   "source": [
    "### Типы курьеров"
   ]
  },
  {
   "cell_type": "markdown",
   "id": "d23c164f",
   "metadata": {},
   "source": [
    "#### Изучение"
   ]
  },
  {
   "cell_type": "code",
   "execution_count": 27,
   "id": "5926ee57",
   "metadata": {
    "scrolled": true
   },
   "outputs": [
    {
     "name": "stdout",
     "output_type": "stream",
     "text": [
      "\u001b[1mОбщая информация о датасете:\u001b[0m\n",
      "<class 'pandas.core.frame.DataFrame'>\n",
      "RangeIndex: 1507 entries, 0 to 1506\n",
      "Data columns (total 3 columns):\n",
      " #   Column                    Non-Null Count  Dtype \n",
      "---  ------                    --------------  ----- \n",
      " 0   restoran_id               1507 non-null   int64 \n",
      " 1   courier_id                1507 non-null   object\n",
      " 2   courier_type_of_movement  1507 non-null   object\n",
      "dtypes: int64(1), object(2)\n",
      "memory usage: 35.4+ KB\n",
      "**************************************************\n",
      "\u001b[1mСтатистические характеристики:\u001b[0m\n"
     ]
    },
    {
     "data": {
      "text/html": [
       "<div>\n",
       "<style scoped>\n",
       "    .dataframe tbody tr th:only-of-type {\n",
       "        vertical-align: middle;\n",
       "    }\n",
       "\n",
       "    .dataframe tbody tr th {\n",
       "        vertical-align: top;\n",
       "    }\n",
       "\n",
       "    .dataframe thead th {\n",
       "        text-align: right;\n",
       "    }\n",
       "</style>\n",
       "<table border=\"1\" class=\"dataframe\">\n",
       "  <thead>\n",
       "    <tr style=\"text-align: right;\">\n",
       "      <th></th>\n",
       "      <th>restoran_id</th>\n",
       "      <th>courier_id</th>\n",
       "      <th>courier_type_of_movement</th>\n",
       "    </tr>\n",
       "  </thead>\n",
       "  <tbody>\n",
       "    <tr>\n",
       "      <th>count</th>\n",
       "      <td>1507.000000</td>\n",
       "      <td>1507</td>\n",
       "      <td>1507</td>\n",
       "    </tr>\n",
       "    <tr>\n",
       "      <th>unique</th>\n",
       "      <td>NaN</td>\n",
       "      <td>1387</td>\n",
       "      <td>4</td>\n",
       "    </tr>\n",
       "    <tr>\n",
       "      <th>top</th>\n",
       "      <td>NaN</td>\n",
       "      <td>Бур0205966</td>\n",
       "      <td>Авто</td>\n",
       "    </tr>\n",
       "    <tr>\n",
       "      <th>freq</th>\n",
       "      <td>NaN</td>\n",
       "      <td>4</td>\n",
       "      <td>1438</td>\n",
       "    </tr>\n",
       "    <tr>\n",
       "      <th>mean</th>\n",
       "      <td>569.839416</td>\n",
       "      <td>NaN</td>\n",
       "      <td>NaN</td>\n",
       "    </tr>\n",
       "    <tr>\n",
       "      <th>std</th>\n",
       "      <td>288.392890</td>\n",
       "      <td>NaN</td>\n",
       "      <td>NaN</td>\n",
       "    </tr>\n",
       "    <tr>\n",
       "      <th>min</th>\n",
       "      <td>7.000000</td>\n",
       "      <td>NaN</td>\n",
       "      <td>NaN</td>\n",
       "    </tr>\n",
       "    <tr>\n",
       "      <th>25%</th>\n",
       "      <td>313.500000</td>\n",
       "      <td>NaN</td>\n",
       "      <td>NaN</td>\n",
       "    </tr>\n",
       "    <tr>\n",
       "      <th>50%</th>\n",
       "      <td>594.000000</td>\n",
       "      <td>NaN</td>\n",
       "      <td>NaN</td>\n",
       "    </tr>\n",
       "    <tr>\n",
       "      <th>75%</th>\n",
       "      <td>817.000000</td>\n",
       "      <td>NaN</td>\n",
       "      <td>NaN</td>\n",
       "    </tr>\n",
       "    <tr>\n",
       "      <th>max</th>\n",
       "      <td>1045.000000</td>\n",
       "      <td>NaN</td>\n",
       "      <td>NaN</td>\n",
       "    </tr>\n",
       "  </tbody>\n",
       "</table>\n",
       "</div>"
      ],
      "text/plain": [
       "        restoran_id  courier_id courier_type_of_movement\n",
       "count   1507.000000        1507                     1507\n",
       "unique          NaN        1387                        4\n",
       "top             NaN  Бур0205966                     Авто\n",
       "freq            NaN           4                     1438\n",
       "mean     569.839416         NaN                      NaN\n",
       "std      288.392890         NaN                      NaN\n",
       "min        7.000000         NaN                      NaN\n",
       "25%      313.500000         NaN                      NaN\n",
       "50%      594.000000         NaN                      NaN\n",
       "75%      817.000000         NaN                      NaN\n",
       "max     1045.000000         NaN                      NaN"
      ]
     },
     "metadata": {},
     "output_type": "display_data"
    },
    {
     "name": "stdout",
     "output_type": "stream",
     "text": [
      "**************************************************\n",
      "\u001b[1mДанные в датасете:\u001b[0m\n"
     ]
    },
    {
     "data": {
      "text/html": [
       "<div>\n",
       "<style scoped>\n",
       "    .dataframe tbody tr th:only-of-type {\n",
       "        vertical-align: middle;\n",
       "    }\n",
       "\n",
       "    .dataframe tbody tr th {\n",
       "        vertical-align: top;\n",
       "    }\n",
       "\n",
       "    .dataframe thead th {\n",
       "        text-align: right;\n",
       "    }\n",
       "</style>\n",
       "<table border=\"1\" class=\"dataframe\">\n",
       "  <thead>\n",
       "    <tr style=\"text-align: right;\">\n",
       "      <th></th>\n",
       "      <th>restoran_id</th>\n",
       "      <th>courier_id</th>\n",
       "      <th>courier_type_of_movement</th>\n",
       "    </tr>\n",
       "  </thead>\n",
       "  <tbody>\n",
       "    <tr>\n",
       "      <th>0</th>\n",
       "      <td>7</td>\n",
       "      <td>Бур0198236</td>\n",
       "      <td>Авто</td>\n",
       "    </tr>\n",
       "    <tr>\n",
       "      <th>1</th>\n",
       "      <td>7</td>\n",
       "      <td>Бур0203018</td>\n",
       "      <td>Авто</td>\n",
       "    </tr>\n",
       "    <tr>\n",
       "      <th>2</th>\n",
       "      <td>7</td>\n",
       "      <td>Бур0203985</td>\n",
       "      <td>Авто</td>\n",
       "    </tr>\n",
       "    <tr>\n",
       "      <th>3</th>\n",
       "      <td>7</td>\n",
       "      <td>Бур0204803</td>\n",
       "      <td>Авто</td>\n",
       "    </tr>\n",
       "    <tr>\n",
       "      <th>4</th>\n",
       "      <td>7</td>\n",
       "      <td>Бур0205576</td>\n",
       "      <td>Авто</td>\n",
       "    </tr>\n",
       "    <tr>\n",
       "      <th>...</th>\n",
       "      <td>...</td>\n",
       "      <td>...</td>\n",
       "      <td>...</td>\n",
       "    </tr>\n",
       "    <tr>\n",
       "      <th>1502</th>\n",
       "      <td>1045</td>\n",
       "      <td>Бур0204926</td>\n",
       "      <td>Авто</td>\n",
       "    </tr>\n",
       "    <tr>\n",
       "      <th>1503</th>\n",
       "      <td>1045</td>\n",
       "      <td>Бур0205112</td>\n",
       "      <td>Авто</td>\n",
       "    </tr>\n",
       "    <tr>\n",
       "      <th>1504</th>\n",
       "      <td>1045</td>\n",
       "      <td>Бур0205432</td>\n",
       "      <td>Авто</td>\n",
       "    </tr>\n",
       "    <tr>\n",
       "      <th>1505</th>\n",
       "      <td>1045</td>\n",
       "      <td>Бур0206116</td>\n",
       "      <td>Авто</td>\n",
       "    </tr>\n",
       "    <tr>\n",
       "      <th>1506</th>\n",
       "      <td>1045</td>\n",
       "      <td>Бур0206849</td>\n",
       "      <td>Авто</td>\n",
       "    </tr>\n",
       "  </tbody>\n",
       "</table>\n",
       "<p>1507 rows × 3 columns</p>\n",
       "</div>"
      ],
      "text/plain": [
       "      restoran_id  courier_id courier_type_of_movement\n",
       "0               7  Бур0198236                     Авто\n",
       "1               7  Бур0203018                     Авто\n",
       "2               7  Бур0203985                     Авто\n",
       "3               7  Бур0204803                     Авто\n",
       "4               7  Бур0205576                     Авто\n",
       "...           ...         ...                      ...\n",
       "1502         1045  Бур0204926                     Авто\n",
       "1503         1045  Бур0205112                     Авто\n",
       "1504         1045  Бур0205432                     Авто\n",
       "1505         1045  Бур0206116                     Авто\n",
       "1506         1045  Бур0206849                     Авто\n",
       "\n",
       "[1507 rows x 3 columns]"
      ]
     },
     "metadata": {},
     "output_type": "display_data"
    },
    {
     "name": "stdout",
     "output_type": "stream",
     "text": [
      "**************************************************\n"
     ]
    },
    {
     "data": {
      "text/plain": [
       "'Количество дубликатов:'"
      ]
     },
     "metadata": {},
     "output_type": "display_data"
    },
    {
     "data": {
      "text/plain": [
       "0"
      ]
     },
     "metadata": {},
     "output_type": "display_data"
    },
    {
     "data": {
      "text/plain": [
       "'Количество пропусков:'"
      ]
     },
     "metadata": {},
     "output_type": "display_data"
    },
    {
     "data": {
      "text/html": [
       "<style type=\"text/css\">\n",
       "</style>\n",
       "<table id=\"T_a362b_\">\n",
       "  <thead>\n",
       "    <tr>\n",
       "      <th class=\"blank level0\" >&nbsp;</th>\n",
       "      <th class=\"col_heading level0 col0\" >кол-во</th>\n",
       "      <th class=\"col_heading level0 col1\" >доля</th>\n",
       "    </tr>\n",
       "  </thead>\n",
       "  <tbody>\n",
       "    <tr>\n",
       "      <th id=\"T_a362b_level0_row0\" class=\"row_heading level0 row0\" >restoran_id</th>\n",
       "      <td id=\"T_a362b_row0_col0\" class=\"data row0 col0\" >0</td>\n",
       "      <td id=\"T_a362b_row0_col1\" class=\"data row0 col1\" >0.00%</td>\n",
       "    </tr>\n",
       "    <tr>\n",
       "      <th id=\"T_a362b_level0_row1\" class=\"row_heading level0 row1\" >courier_id</th>\n",
       "      <td id=\"T_a362b_row1_col0\" class=\"data row1 col0\" >0</td>\n",
       "      <td id=\"T_a362b_row1_col1\" class=\"data row1 col1\" >0.00%</td>\n",
       "    </tr>\n",
       "    <tr>\n",
       "      <th id=\"T_a362b_level0_row2\" class=\"row_heading level0 row2\" >courier_type_of_movement</th>\n",
       "      <td id=\"T_a362b_row2_col0\" class=\"data row2 col0\" >0</td>\n",
       "      <td id=\"T_a362b_row2_col1\" class=\"data row2 col1\" >0.00%</td>\n",
       "    </tr>\n",
       "  </tbody>\n",
       "</table>\n"
      ],
      "text/plain": [
       "<pandas.io.formats.style.Styler at 0x1f1a1347588>"
      ]
     },
     "metadata": {},
     "output_type": "display_data"
    }
   ],
   "source": [
    "info(types)"
   ]
  },
  {
   "cell_type": "code",
   "execution_count": 28,
   "id": "44fdf7ba",
   "metadata": {},
   "outputs": [
    {
     "name": "stdout",
     "output_type": "stream",
     "text": [
      "Количество уникальных id ресторанов: 337\n",
      "Количество уникальных id курьера: 1387\n",
      "Уникальные значения в поле \"courier_type_of_movement\": ['Авто' 'Пеший' 'Вело' '-']\n"
     ]
    }
   ],
   "source": [
    "print('Количество уникальных id ресторанов:', types['restoran_id'].nunique())\n",
    "print('Количество уникальных id курьера:', types['courier_id'].nunique())\n",
    "print('Уникальные значения в поле \"courier_type_of_movement\":', types['courier_type_of_movement'].unique())"
   ]
  },
  {
   "cell_type": "markdown",
   "id": "7adba099",
   "metadata": {},
   "source": [
    "#### Обработка"
   ]
  },
  {
   "cell_type": "markdown",
   "id": "e5d1c6ee",
   "metadata": {},
   "source": [
    "* Удалю дубликаты, т.к. один и тот же курьер мог работать в разных ресторанах\n",
    "* оставлю только столбец с ID курьера и его типом перемещения"
   ]
  },
  {
   "cell_type": "code",
   "execution_count": 29,
   "id": "1b74100c",
   "metadata": {},
   "outputs": [
    {
     "data": {
      "text/plain": [
       "120"
      ]
     },
     "execution_count": 29,
     "metadata": {},
     "output_type": "execute_result"
    }
   ],
   "source": [
    "types['courier_id'].duplicated().sum()"
   ]
  },
  {
   "cell_type": "code",
   "execution_count": 30,
   "id": "a6726499",
   "metadata": {},
   "outputs": [
    {
     "data": {
      "text/plain": [
       "0"
      ]
     },
     "execution_count": 30,
     "metadata": {},
     "output_type": "execute_result"
    }
   ],
   "source": [
    "types = types.drop_duplicates(subset='courier_id')\n",
    "types['courier_id'].duplicated().sum()"
   ]
  },
  {
   "cell_type": "code",
   "execution_count": 31,
   "id": "19eec11b",
   "metadata": {
    "scrolled": true
   },
   "outputs": [
    {
     "data": {
      "text/html": [
       "<div>\n",
       "<style scoped>\n",
       "    .dataframe tbody tr th:only-of-type {\n",
       "        vertical-align: middle;\n",
       "    }\n",
       "\n",
       "    .dataframe tbody tr th {\n",
       "        vertical-align: top;\n",
       "    }\n",
       "\n",
       "    .dataframe thead th {\n",
       "        text-align: right;\n",
       "    }\n",
       "</style>\n",
       "<table border=\"1\" class=\"dataframe\">\n",
       "  <thead>\n",
       "    <tr style=\"text-align: right;\">\n",
       "      <th></th>\n",
       "      <th>courier_id</th>\n",
       "      <th>courier_type_of_movement</th>\n",
       "    </tr>\n",
       "  </thead>\n",
       "  <tbody>\n",
       "    <tr>\n",
       "      <th>0</th>\n",
       "      <td>Бур0198236</td>\n",
       "      <td>Авто</td>\n",
       "    </tr>\n",
       "  </tbody>\n",
       "</table>\n",
       "</div>"
      ],
      "text/plain": [
       "   courier_id courier_type_of_movement\n",
       "0  Бур0198236                     Авто"
      ]
     },
     "execution_count": 31,
     "metadata": {},
     "output_type": "execute_result"
    }
   ],
   "source": [
    "types = types[['courier_id', 'courier_type_of_movement']]\n",
    "types.head(1)"
   ]
  },
  {
   "cell_type": "code",
   "execution_count": 32,
   "id": "43320e04",
   "metadata": {},
   "outputs": [
    {
     "name": "stdout",
     "output_type": "stream",
     "text": [
      "Количество уникальных id курьера: 1387\n",
      "Уникальные значения в поле \"courier_type_of_movement\": ['Авто' 'Пеший' 'Вело' '-']\n"
     ]
    }
   ],
   "source": [
    "print('Количество уникальных id курьера:', types['courier_id'].nunique())\n",
    "print('Уникальные значения в поле \"courier_type_of_movement\":', types['courier_type_of_movement'].unique())"
   ]
  },
  {
   "cell_type": "markdown",
   "id": "16e8a0a0",
   "metadata": {},
   "source": [
    "* Курьеры у которых в типе перемещения стоит `-` это курьеры с несколькими типами перемещения, сохраню их в отдельную переменную. `bad_couriers_type` запишу в баг репорт\n",
    "* Заменю `-` прочерки в типе перемещения на \"Авто\", т.к. курьеры с прочерком это курьеры с несколькими типами перемещения"
   ]
  },
  {
   "cell_type": "code",
   "execution_count": 33,
   "id": "90dfa2ec",
   "metadata": {
    "scrolled": true
   },
   "outputs": [
    {
     "name": "stdout",
     "output_type": "stream",
     "text": [
      "<class 'pandas.core.frame.DataFrame'>\n",
      "Int64Index: 6 entries, 56 to 638\n",
      "Data columns (total 2 columns):\n",
      " #   Column                    Non-Null Count  Dtype \n",
      "---  ------                    --------------  ----- \n",
      " 0   courier_id                6 non-null      object\n",
      " 1   courier_type_of_movement  6 non-null      object\n",
      "dtypes: object(2)\n",
      "memory usage: 144.0+ bytes\n"
     ]
    }
   ],
   "source": [
    "bad_couriers_type = types.query('courier_type_of_movement == \"-\"')\n",
    "bad_couriers_type.info()"
   ]
  },
  {
   "cell_type": "code",
   "execution_count": 34,
   "id": "592cf770",
   "metadata": {},
   "outputs": [
    {
     "name": "stdout",
     "output_type": "stream",
     "text": [
      "Уникальные значения в поле \"courier_type_of_movement\": ['Авто' 'Пеший' 'Вело']\n"
     ]
    }
   ],
   "source": [
    "types['courier_type_of_movement'] = types['courier_type_of_movement'].str.replace('-', \"Авто\")\n",
    "print('Уникальные значения в поле \"courier_type_of_movement\":', types['courier_type_of_movement'].unique())"
   ]
  },
  {
   "cell_type": "markdown",
   "id": "a652389a",
   "metadata": {},
   "source": [
    "### Часы курьеров"
   ]
  },
  {
   "cell_type": "markdown",
   "id": "b8b1df00",
   "metadata": {},
   "source": [
    "#### Изучение"
   ]
  },
  {
   "cell_type": "code",
   "execution_count": 35,
   "id": "728a8126",
   "metadata": {},
   "outputs": [
    {
     "name": "stdout",
     "output_type": "stream",
     "text": [
      "\u001b[1mОбщая информация о датасете:\u001b[0m\n",
      "<class 'pandas.core.frame.DataFrame'>\n",
      "RangeIndex: 1582 entries, 0 to 1581\n",
      "Data columns (total 33 columns):\n",
      " #   Column       Non-Null Count  Dtype  \n",
      "---  ------       --------------  -----  \n",
      " 0   restoran_id  1582 non-null   int64  \n",
      " 1   courier_id   1582 non-null   object \n",
      " 2   1            327 non-null    float64\n",
      " 3   2            344 non-null    float64\n",
      " 4   3            373 non-null    float64\n",
      " 5   4            413 non-null    float64\n",
      " 6   5            411 non-null    float64\n",
      " 7   6            396 non-null    float64\n",
      " 8   7            342 non-null    float64\n",
      " 9   8            329 non-null    float64\n",
      " 10  9            360 non-null    float64\n",
      " 11  10           347 non-null    float64\n",
      " 12  11           412 non-null    float64\n",
      " 13  12           418 non-null    float64\n",
      " 14  13           406 non-null    float64\n",
      " 15  14           358 non-null    float64\n",
      " 16  15           336 non-null    float64\n",
      " 17  16           351 non-null    float64\n",
      " 18  17           367 non-null    float64\n",
      " 19  18           407 non-null    float64\n",
      " 20  19           424 non-null    float64\n",
      " 21  20           410 non-null    float64\n",
      " 22  21           338 non-null    float64\n",
      " 23  22           352 non-null    float64\n",
      " 24  23           368 non-null    float64\n",
      " 25  24           369 non-null    float64\n",
      " 26  25           407 non-null    float64\n",
      " 27  26           413 non-null    float64\n",
      " 28  27           380 non-null    float64\n",
      " 29  28           2 non-null      float64\n",
      " 30  29           0 non-null      float64\n",
      " 31  30           0 non-null      float64\n",
      " 32  31           0 non-null      float64\n",
      "dtypes: float64(31), int64(1), object(1)\n",
      "memory usage: 408.0+ KB\n",
      "**************************************************\n",
      "\u001b[1mСтатистические характеристики:\u001b[0m\n"
     ]
    },
    {
     "data": {
      "text/html": [
       "<div>\n",
       "<style scoped>\n",
       "    .dataframe tbody tr th:only-of-type {\n",
       "        vertical-align: middle;\n",
       "    }\n",
       "\n",
       "    .dataframe tbody tr th {\n",
       "        vertical-align: top;\n",
       "    }\n",
       "\n",
       "    .dataframe thead th {\n",
       "        text-align: right;\n",
       "    }\n",
       "</style>\n",
       "<table border=\"1\" class=\"dataframe\">\n",
       "  <thead>\n",
       "    <tr style=\"text-align: right;\">\n",
       "      <th></th>\n",
       "      <th>restoran_id</th>\n",
       "      <th>courier_id</th>\n",
       "      <th>1</th>\n",
       "      <th>2</th>\n",
       "      <th>3</th>\n",
       "      <th>4</th>\n",
       "      <th>5</th>\n",
       "      <th>6</th>\n",
       "      <th>7</th>\n",
       "      <th>8</th>\n",
       "      <th>...</th>\n",
       "      <th>22</th>\n",
       "      <th>23</th>\n",
       "      <th>24</th>\n",
       "      <th>25</th>\n",
       "      <th>26</th>\n",
       "      <th>27</th>\n",
       "      <th>28</th>\n",
       "      <th>29</th>\n",
       "      <th>30</th>\n",
       "      <th>31</th>\n",
       "    </tr>\n",
       "  </thead>\n",
       "  <tbody>\n",
       "    <tr>\n",
       "      <th>count</th>\n",
       "      <td>1582.000000</td>\n",
       "      <td>1582</td>\n",
       "      <td>327.000000</td>\n",
       "      <td>344.000000</td>\n",
       "      <td>373.000000</td>\n",
       "      <td>413.000000</td>\n",
       "      <td>411.000000</td>\n",
       "      <td>396.000000</td>\n",
       "      <td>342.000000</td>\n",
       "      <td>329.000000</td>\n",
       "      <td>...</td>\n",
       "      <td>352.000000</td>\n",
       "      <td>368.000000</td>\n",
       "      <td>369.000000</td>\n",
       "      <td>407.000000</td>\n",
       "      <td>413.000000</td>\n",
       "      <td>380.000000</td>\n",
       "      <td>2.000000</td>\n",
       "      <td>0.0</td>\n",
       "      <td>0.0</td>\n",
       "      <td>0.0</td>\n",
       "    </tr>\n",
       "    <tr>\n",
       "      <th>unique</th>\n",
       "      <td>NaN</td>\n",
       "      <td>1503</td>\n",
       "      <td>NaN</td>\n",
       "      <td>NaN</td>\n",
       "      <td>NaN</td>\n",
       "      <td>NaN</td>\n",
       "      <td>NaN</td>\n",
       "      <td>NaN</td>\n",
       "      <td>NaN</td>\n",
       "      <td>NaN</td>\n",
       "      <td>...</td>\n",
       "      <td>NaN</td>\n",
       "      <td>NaN</td>\n",
       "      <td>NaN</td>\n",
       "      <td>NaN</td>\n",
       "      <td>NaN</td>\n",
       "      <td>NaN</td>\n",
       "      <td>NaN</td>\n",
       "      <td>NaN</td>\n",
       "      <td>NaN</td>\n",
       "      <td>NaN</td>\n",
       "    </tr>\n",
       "    <tr>\n",
       "      <th>top</th>\n",
       "      <td>NaN</td>\n",
       "      <td>Бур0162369</td>\n",
       "      <td>NaN</td>\n",
       "      <td>NaN</td>\n",
       "      <td>NaN</td>\n",
       "      <td>NaN</td>\n",
       "      <td>NaN</td>\n",
       "      <td>NaN</td>\n",
       "      <td>NaN</td>\n",
       "      <td>NaN</td>\n",
       "      <td>...</td>\n",
       "      <td>NaN</td>\n",
       "      <td>NaN</td>\n",
       "      <td>NaN</td>\n",
       "      <td>NaN</td>\n",
       "      <td>NaN</td>\n",
       "      <td>NaN</td>\n",
       "      <td>NaN</td>\n",
       "      <td>NaN</td>\n",
       "      <td>NaN</td>\n",
       "      <td>NaN</td>\n",
       "    </tr>\n",
       "    <tr>\n",
       "      <th>freq</th>\n",
       "      <td>NaN</td>\n",
       "      <td>4</td>\n",
       "      <td>NaN</td>\n",
       "      <td>NaN</td>\n",
       "      <td>NaN</td>\n",
       "      <td>NaN</td>\n",
       "      <td>NaN</td>\n",
       "      <td>NaN</td>\n",
       "      <td>NaN</td>\n",
       "      <td>NaN</td>\n",
       "      <td>...</td>\n",
       "      <td>NaN</td>\n",
       "      <td>NaN</td>\n",
       "      <td>NaN</td>\n",
       "      <td>NaN</td>\n",
       "      <td>NaN</td>\n",
       "      <td>NaN</td>\n",
       "      <td>NaN</td>\n",
       "      <td>NaN</td>\n",
       "      <td>NaN</td>\n",
       "      <td>NaN</td>\n",
       "    </tr>\n",
       "    <tr>\n",
       "      <th>mean</th>\n",
       "      <td>570.438053</td>\n",
       "      <td>NaN</td>\n",
       "      <td>8.718165</td>\n",
       "      <td>8.577355</td>\n",
       "      <td>8.735067</td>\n",
       "      <td>9.012446</td>\n",
       "      <td>9.022384</td>\n",
       "      <td>8.849571</td>\n",
       "      <td>8.565936</td>\n",
       "      <td>8.618571</td>\n",
       "      <td>...</td>\n",
       "      <td>8.418920</td>\n",
       "      <td>8.520516</td>\n",
       "      <td>8.347425</td>\n",
       "      <td>8.497887</td>\n",
       "      <td>8.635666</td>\n",
       "      <td>8.892921</td>\n",
       "      <td>1.190000</td>\n",
       "      <td>NaN</td>\n",
       "      <td>NaN</td>\n",
       "      <td>NaN</td>\n",
       "    </tr>\n",
       "    <tr>\n",
       "      <th>std</th>\n",
       "      <td>288.438442</td>\n",
       "      <td>NaN</td>\n",
       "      <td>2.846144</td>\n",
       "      <td>3.013376</td>\n",
       "      <td>2.914410</td>\n",
       "      <td>2.556017</td>\n",
       "      <td>2.492205</td>\n",
       "      <td>2.639440</td>\n",
       "      <td>2.841837</td>\n",
       "      <td>2.906003</td>\n",
       "      <td>...</td>\n",
       "      <td>2.826824</td>\n",
       "      <td>2.811499</td>\n",
       "      <td>2.913459</td>\n",
       "      <td>2.763644</td>\n",
       "      <td>2.754625</td>\n",
       "      <td>2.637740</td>\n",
       "      <td>0.438406</td>\n",
       "      <td>NaN</td>\n",
       "      <td>NaN</td>\n",
       "      <td>NaN</td>\n",
       "    </tr>\n",
       "    <tr>\n",
       "      <th>min</th>\n",
       "      <td>7.000000</td>\n",
       "      <td>NaN</td>\n",
       "      <td>0.130000</td>\n",
       "      <td>0.010000</td>\n",
       "      <td>0.300000</td>\n",
       "      <td>0.030000</td>\n",
       "      <td>0.330000</td>\n",
       "      <td>0.330000</td>\n",
       "      <td>1.000000</td>\n",
       "      <td>0.350000</td>\n",
       "      <td>...</td>\n",
       "      <td>0.060000</td>\n",
       "      <td>0.510000</td>\n",
       "      <td>0.400000</td>\n",
       "      <td>1.200000</td>\n",
       "      <td>0.010000</td>\n",
       "      <td>0.310000</td>\n",
       "      <td>0.880000</td>\n",
       "      <td>NaN</td>\n",
       "      <td>NaN</td>\n",
       "      <td>NaN</td>\n",
       "    </tr>\n",
       "    <tr>\n",
       "      <th>25%</th>\n",
       "      <td>312.000000</td>\n",
       "      <td>NaN</td>\n",
       "      <td>6.825000</td>\n",
       "      <td>6.445000</td>\n",
       "      <td>6.550000</td>\n",
       "      <td>7.480000</td>\n",
       "      <td>7.550000</td>\n",
       "      <td>7.382500</td>\n",
       "      <td>6.322500</td>\n",
       "      <td>6.760000</td>\n",
       "      <td>...</td>\n",
       "      <td>6.057500</td>\n",
       "      <td>6.277500</td>\n",
       "      <td>6.030000</td>\n",
       "      <td>6.415000</td>\n",
       "      <td>6.650000</td>\n",
       "      <td>7.372500</td>\n",
       "      <td>1.035000</td>\n",
       "      <td>NaN</td>\n",
       "      <td>NaN</td>\n",
       "      <td>NaN</td>\n",
       "    </tr>\n",
       "    <tr>\n",
       "      <th>50%</th>\n",
       "      <td>592.000000</td>\n",
       "      <td>NaN</td>\n",
       "      <td>9.680000</td>\n",
       "      <td>9.550000</td>\n",
       "      <td>9.750000</td>\n",
       "      <td>9.830000</td>\n",
       "      <td>9.750000</td>\n",
       "      <td>9.690000</td>\n",
       "      <td>9.520000</td>\n",
       "      <td>9.650000</td>\n",
       "      <td>...</td>\n",
       "      <td>9.340000</td>\n",
       "      <td>9.405000</td>\n",
       "      <td>9.260000</td>\n",
       "      <td>9.280000</td>\n",
       "      <td>9.410000</td>\n",
       "      <td>9.630000</td>\n",
       "      <td>1.190000</td>\n",
       "      <td>NaN</td>\n",
       "      <td>NaN</td>\n",
       "      <td>NaN</td>\n",
       "    </tr>\n",
       "    <tr>\n",
       "      <th>75%</th>\n",
       "      <td>819.000000</td>\n",
       "      <td>NaN</td>\n",
       "      <td>10.950000</td>\n",
       "      <td>11.015000</td>\n",
       "      <td>11.150000</td>\n",
       "      <td>10.960000</td>\n",
       "      <td>10.880000</td>\n",
       "      <td>11.000000</td>\n",
       "      <td>10.972500</td>\n",
       "      <td>11.080000</td>\n",
       "      <td>...</td>\n",
       "      <td>10.785000</td>\n",
       "      <td>10.837500</td>\n",
       "      <td>10.700000</td>\n",
       "      <td>10.830000</td>\n",
       "      <td>10.760000</td>\n",
       "      <td>11.002500</td>\n",
       "      <td>1.345000</td>\n",
       "      <td>NaN</td>\n",
       "      <td>NaN</td>\n",
       "      <td>NaN</td>\n",
       "    </tr>\n",
       "    <tr>\n",
       "      <th>max</th>\n",
       "      <td>1070.000000</td>\n",
       "      <td>NaN</td>\n",
       "      <td>12.000000</td>\n",
       "      <td>12.000000</td>\n",
       "      <td>12.000000</td>\n",
       "      <td>12.000000</td>\n",
       "      <td>12.000000</td>\n",
       "      <td>12.000000</td>\n",
       "      <td>12.000000</td>\n",
       "      <td>12.000000</td>\n",
       "      <td>...</td>\n",
       "      <td>12.000000</td>\n",
       "      <td>12.000000</td>\n",
       "      <td>12.000000</td>\n",
       "      <td>12.000000</td>\n",
       "      <td>12.000000</td>\n",
       "      <td>12.000000</td>\n",
       "      <td>1.500000</td>\n",
       "      <td>NaN</td>\n",
       "      <td>NaN</td>\n",
       "      <td>NaN</td>\n",
       "    </tr>\n",
       "  </tbody>\n",
       "</table>\n",
       "<p>11 rows × 33 columns</p>\n",
       "</div>"
      ],
      "text/plain": [
       "        restoran_id  courier_id           1           2           3  \\\n",
       "count   1582.000000        1582  327.000000  344.000000  373.000000   \n",
       "unique          NaN        1503         NaN         NaN         NaN   \n",
       "top             NaN  Бур0162369         NaN         NaN         NaN   \n",
       "freq            NaN           4         NaN         NaN         NaN   \n",
       "mean     570.438053         NaN    8.718165    8.577355    8.735067   \n",
       "std      288.438442         NaN    2.846144    3.013376    2.914410   \n",
       "min        7.000000         NaN    0.130000    0.010000    0.300000   \n",
       "25%      312.000000         NaN    6.825000    6.445000    6.550000   \n",
       "50%      592.000000         NaN    9.680000    9.550000    9.750000   \n",
       "75%      819.000000         NaN   10.950000   11.015000   11.150000   \n",
       "max     1070.000000         NaN   12.000000   12.000000   12.000000   \n",
       "\n",
       "                 4           5           6           7           8  ...  \\\n",
       "count   413.000000  411.000000  396.000000  342.000000  329.000000  ...   \n",
       "unique         NaN         NaN         NaN         NaN         NaN  ...   \n",
       "top            NaN         NaN         NaN         NaN         NaN  ...   \n",
       "freq           NaN         NaN         NaN         NaN         NaN  ...   \n",
       "mean      9.012446    9.022384    8.849571    8.565936    8.618571  ...   \n",
       "std       2.556017    2.492205    2.639440    2.841837    2.906003  ...   \n",
       "min       0.030000    0.330000    0.330000    1.000000    0.350000  ...   \n",
       "25%       7.480000    7.550000    7.382500    6.322500    6.760000  ...   \n",
       "50%       9.830000    9.750000    9.690000    9.520000    9.650000  ...   \n",
       "75%      10.960000   10.880000   11.000000   10.972500   11.080000  ...   \n",
       "max      12.000000   12.000000   12.000000   12.000000   12.000000  ...   \n",
       "\n",
       "                22          23          24          25          26  \\\n",
       "count   352.000000  368.000000  369.000000  407.000000  413.000000   \n",
       "unique         NaN         NaN         NaN         NaN         NaN   \n",
       "top            NaN         NaN         NaN         NaN         NaN   \n",
       "freq           NaN         NaN         NaN         NaN         NaN   \n",
       "mean      8.418920    8.520516    8.347425    8.497887    8.635666   \n",
       "std       2.826824    2.811499    2.913459    2.763644    2.754625   \n",
       "min       0.060000    0.510000    0.400000    1.200000    0.010000   \n",
       "25%       6.057500    6.277500    6.030000    6.415000    6.650000   \n",
       "50%       9.340000    9.405000    9.260000    9.280000    9.410000   \n",
       "75%      10.785000   10.837500   10.700000   10.830000   10.760000   \n",
       "max      12.000000   12.000000   12.000000   12.000000   12.000000   \n",
       "\n",
       "                27        28   29   30   31  \n",
       "count   380.000000  2.000000  0.0  0.0  0.0  \n",
       "unique         NaN       NaN  NaN  NaN  NaN  \n",
       "top            NaN       NaN  NaN  NaN  NaN  \n",
       "freq           NaN       NaN  NaN  NaN  NaN  \n",
       "mean      8.892921  1.190000  NaN  NaN  NaN  \n",
       "std       2.637740  0.438406  NaN  NaN  NaN  \n",
       "min       0.310000  0.880000  NaN  NaN  NaN  \n",
       "25%       7.372500  1.035000  NaN  NaN  NaN  \n",
       "50%       9.630000  1.190000  NaN  NaN  NaN  \n",
       "75%      11.002500  1.345000  NaN  NaN  NaN  \n",
       "max      12.000000  1.500000  NaN  NaN  NaN  \n",
       "\n",
       "[11 rows x 33 columns]"
      ]
     },
     "metadata": {},
     "output_type": "display_data"
    },
    {
     "name": "stdout",
     "output_type": "stream",
     "text": [
      "**************************************************\n",
      "\u001b[1mДанные в датасете:\u001b[0m\n"
     ]
    },
    {
     "data": {
      "text/html": [
       "<div>\n",
       "<style scoped>\n",
       "    .dataframe tbody tr th:only-of-type {\n",
       "        vertical-align: middle;\n",
       "    }\n",
       "\n",
       "    .dataframe tbody tr th {\n",
       "        vertical-align: top;\n",
       "    }\n",
       "\n",
       "    .dataframe thead th {\n",
       "        text-align: right;\n",
       "    }\n",
       "</style>\n",
       "<table border=\"1\" class=\"dataframe\">\n",
       "  <thead>\n",
       "    <tr style=\"text-align: right;\">\n",
       "      <th></th>\n",
       "      <th>restoran_id</th>\n",
       "      <th>courier_id</th>\n",
       "      <th>1</th>\n",
       "      <th>2</th>\n",
       "      <th>3</th>\n",
       "      <th>4</th>\n",
       "      <th>5</th>\n",
       "      <th>6</th>\n",
       "      <th>7</th>\n",
       "      <th>8</th>\n",
       "      <th>...</th>\n",
       "      <th>22</th>\n",
       "      <th>23</th>\n",
       "      <th>24</th>\n",
       "      <th>25</th>\n",
       "      <th>26</th>\n",
       "      <th>27</th>\n",
       "      <th>28</th>\n",
       "      <th>29</th>\n",
       "      <th>30</th>\n",
       "      <th>31</th>\n",
       "    </tr>\n",
       "  </thead>\n",
       "  <tbody>\n",
       "    <tr>\n",
       "      <th>0</th>\n",
       "      <td>7</td>\n",
       "      <td>Бур0198236</td>\n",
       "      <td>NaN</td>\n",
       "      <td>NaN</td>\n",
       "      <td>11.13</td>\n",
       "      <td>11.05</td>\n",
       "      <td>NaN</td>\n",
       "      <td>NaN</td>\n",
       "      <td>11.15</td>\n",
       "      <td>NaN</td>\n",
       "      <td>...</td>\n",
       "      <td>NaN</td>\n",
       "      <td>10.8</td>\n",
       "      <td>NaN</td>\n",
       "      <td>NaN</td>\n",
       "      <td>NaN</td>\n",
       "      <td>NaN</td>\n",
       "      <td>NaN</td>\n",
       "      <td>NaN</td>\n",
       "      <td>NaN</td>\n",
       "      <td>NaN</td>\n",
       "    </tr>\n",
       "    <tr>\n",
       "      <th>1</th>\n",
       "      <td>7</td>\n",
       "      <td>Бур0204803</td>\n",
       "      <td>NaN</td>\n",
       "      <td>NaN</td>\n",
       "      <td>NaN</td>\n",
       "      <td>NaN</td>\n",
       "      <td>NaN</td>\n",
       "      <td>NaN</td>\n",
       "      <td>NaN</td>\n",
       "      <td>NaN</td>\n",
       "      <td>...</td>\n",
       "      <td>NaN</td>\n",
       "      <td>NaN</td>\n",
       "      <td>NaN</td>\n",
       "      <td>NaN</td>\n",
       "      <td>NaN</td>\n",
       "      <td>NaN</td>\n",
       "      <td>NaN</td>\n",
       "      <td>NaN</td>\n",
       "      <td>NaN</td>\n",
       "      <td>NaN</td>\n",
       "    </tr>\n",
       "    <tr>\n",
       "      <th>2</th>\n",
       "      <td>7</td>\n",
       "      <td>Бур0203985</td>\n",
       "      <td>NaN</td>\n",
       "      <td>NaN</td>\n",
       "      <td>NaN</td>\n",
       "      <td>NaN</td>\n",
       "      <td>NaN</td>\n",
       "      <td>NaN</td>\n",
       "      <td>NaN</td>\n",
       "      <td>4.30</td>\n",
       "      <td>...</td>\n",
       "      <td>NaN</td>\n",
       "      <td>NaN</td>\n",
       "      <td>NaN</td>\n",
       "      <td>NaN</td>\n",
       "      <td>NaN</td>\n",
       "      <td>NaN</td>\n",
       "      <td>NaN</td>\n",
       "      <td>NaN</td>\n",
       "      <td>NaN</td>\n",
       "      <td>NaN</td>\n",
       "    </tr>\n",
       "    <tr>\n",
       "      <th>3</th>\n",
       "      <td>7</td>\n",
       "      <td>Бур0205576</td>\n",
       "      <td>11.11</td>\n",
       "      <td>NaN</td>\n",
       "      <td>9.90</td>\n",
       "      <td>6.60</td>\n",
       "      <td>11.1</td>\n",
       "      <td>NaN</td>\n",
       "      <td>5.70</td>\n",
       "      <td>11.10</td>\n",
       "      <td>...</td>\n",
       "      <td>NaN</td>\n",
       "      <td>NaN</td>\n",
       "      <td>NaN</td>\n",
       "      <td>NaN</td>\n",
       "      <td>10.01</td>\n",
       "      <td>11.05</td>\n",
       "      <td>NaN</td>\n",
       "      <td>NaN</td>\n",
       "      <td>NaN</td>\n",
       "      <td>NaN</td>\n",
       "    </tr>\n",
       "    <tr>\n",
       "      <th>4</th>\n",
       "      <td>7</td>\n",
       "      <td>Бур0203018</td>\n",
       "      <td>NaN</td>\n",
       "      <td>11.16</td>\n",
       "      <td>NaN</td>\n",
       "      <td>NaN</td>\n",
       "      <td>NaN</td>\n",
       "      <td>10.85</td>\n",
       "      <td>NaN</td>\n",
       "      <td>NaN</td>\n",
       "      <td>...</td>\n",
       "      <td>NaN</td>\n",
       "      <td>NaN</td>\n",
       "      <td>NaN</td>\n",
       "      <td>NaN</td>\n",
       "      <td>NaN</td>\n",
       "      <td>NaN</td>\n",
       "      <td>NaN</td>\n",
       "      <td>NaN</td>\n",
       "      <td>NaN</td>\n",
       "      <td>NaN</td>\n",
       "    </tr>\n",
       "    <tr>\n",
       "      <th>...</th>\n",
       "      <td>...</td>\n",
       "      <td>...</td>\n",
       "      <td>...</td>\n",
       "      <td>...</td>\n",
       "      <td>...</td>\n",
       "      <td>...</td>\n",
       "      <td>...</td>\n",
       "      <td>...</td>\n",
       "      <td>...</td>\n",
       "      <td>...</td>\n",
       "      <td>...</td>\n",
       "      <td>...</td>\n",
       "      <td>...</td>\n",
       "      <td>...</td>\n",
       "      <td>...</td>\n",
       "      <td>...</td>\n",
       "      <td>...</td>\n",
       "      <td>...</td>\n",
       "      <td>...</td>\n",
       "      <td>...</td>\n",
       "      <td>...</td>\n",
       "    </tr>\n",
       "    <tr>\n",
       "      <th>1577</th>\n",
       "      <td>1045</td>\n",
       "      <td>Бур0204926</td>\n",
       "      <td>NaN</td>\n",
       "      <td>4.76</td>\n",
       "      <td>NaN</td>\n",
       "      <td>4.40</td>\n",
       "      <td>NaN</td>\n",
       "      <td>NaN</td>\n",
       "      <td>NaN</td>\n",
       "      <td>NaN</td>\n",
       "      <td>...</td>\n",
       "      <td>NaN</td>\n",
       "      <td>NaN</td>\n",
       "      <td>NaN</td>\n",
       "      <td>NaN</td>\n",
       "      <td>NaN</td>\n",
       "      <td>NaN</td>\n",
       "      <td>NaN</td>\n",
       "      <td>NaN</td>\n",
       "      <td>NaN</td>\n",
       "      <td>NaN</td>\n",
       "    </tr>\n",
       "    <tr>\n",
       "      <th>1578</th>\n",
       "      <td>1045</td>\n",
       "      <td>Бур0200454</td>\n",
       "      <td>NaN</td>\n",
       "      <td>NaN</td>\n",
       "      <td>NaN</td>\n",
       "      <td>NaN</td>\n",
       "      <td>NaN</td>\n",
       "      <td>NaN</td>\n",
       "      <td>NaN</td>\n",
       "      <td>NaN</td>\n",
       "      <td>...</td>\n",
       "      <td>NaN</td>\n",
       "      <td>NaN</td>\n",
       "      <td>NaN</td>\n",
       "      <td>NaN</td>\n",
       "      <td>NaN</td>\n",
       "      <td>NaN</td>\n",
       "      <td>NaN</td>\n",
       "      <td>NaN</td>\n",
       "      <td>NaN</td>\n",
       "      <td>NaN</td>\n",
       "    </tr>\n",
       "    <tr>\n",
       "      <th>1579</th>\n",
       "      <td>1045</td>\n",
       "      <td>Бур0206849</td>\n",
       "      <td>NaN</td>\n",
       "      <td>NaN</td>\n",
       "      <td>NaN</td>\n",
       "      <td>NaN</td>\n",
       "      <td>NaN</td>\n",
       "      <td>NaN</td>\n",
       "      <td>NaN</td>\n",
       "      <td>NaN</td>\n",
       "      <td>...</td>\n",
       "      <td>11.33</td>\n",
       "      <td>NaN</td>\n",
       "      <td>NaN</td>\n",
       "      <td>10.51</td>\n",
       "      <td>10.50</td>\n",
       "      <td>NaN</td>\n",
       "      <td>NaN</td>\n",
       "      <td>NaN</td>\n",
       "      <td>NaN</td>\n",
       "      <td>NaN</td>\n",
       "    </tr>\n",
       "    <tr>\n",
       "      <th>1580</th>\n",
       "      <td>1045</td>\n",
       "      <td>Бур0205112</td>\n",
       "      <td>NaN</td>\n",
       "      <td>NaN</td>\n",
       "      <td>10.65</td>\n",
       "      <td>10.41</td>\n",
       "      <td>NaN</td>\n",
       "      <td>NaN</td>\n",
       "      <td>10.45</td>\n",
       "      <td>10.51</td>\n",
       "      <td>...</td>\n",
       "      <td>NaN</td>\n",
       "      <td>NaN</td>\n",
       "      <td>NaN</td>\n",
       "      <td>NaN</td>\n",
       "      <td>NaN</td>\n",
       "      <td>NaN</td>\n",
       "      <td>NaN</td>\n",
       "      <td>NaN</td>\n",
       "      <td>NaN</td>\n",
       "      <td>NaN</td>\n",
       "    </tr>\n",
       "    <tr>\n",
       "      <th>1581</th>\n",
       "      <td>1070</td>\n",
       "      <td>Бур0162369</td>\n",
       "      <td>NaN</td>\n",
       "      <td>NaN</td>\n",
       "      <td>NaN</td>\n",
       "      <td>NaN</td>\n",
       "      <td>NaN</td>\n",
       "      <td>NaN</td>\n",
       "      <td>NaN</td>\n",
       "      <td>NaN</td>\n",
       "      <td>...</td>\n",
       "      <td>NaN</td>\n",
       "      <td>NaN</td>\n",
       "      <td>NaN</td>\n",
       "      <td>NaN</td>\n",
       "      <td>NaN</td>\n",
       "      <td>NaN</td>\n",
       "      <td>NaN</td>\n",
       "      <td>NaN</td>\n",
       "      <td>NaN</td>\n",
       "      <td>NaN</td>\n",
       "    </tr>\n",
       "  </tbody>\n",
       "</table>\n",
       "<p>1582 rows × 33 columns</p>\n",
       "</div>"
      ],
      "text/plain": [
       "      restoran_id  courier_id      1      2      3      4     5      6      7  \\\n",
       "0               7  Бур0198236    NaN    NaN  11.13  11.05   NaN    NaN  11.15   \n",
       "1               7  Бур0204803    NaN    NaN    NaN    NaN   NaN    NaN    NaN   \n",
       "2               7  Бур0203985    NaN    NaN    NaN    NaN   NaN    NaN    NaN   \n",
       "3               7  Бур0205576  11.11    NaN   9.90   6.60  11.1    NaN   5.70   \n",
       "4               7  Бур0203018    NaN  11.16    NaN    NaN   NaN  10.85    NaN   \n",
       "...           ...         ...    ...    ...    ...    ...   ...    ...    ...   \n",
       "1577         1045  Бур0204926    NaN   4.76    NaN   4.40   NaN    NaN    NaN   \n",
       "1578         1045  Бур0200454    NaN    NaN    NaN    NaN   NaN    NaN    NaN   \n",
       "1579         1045  Бур0206849    NaN    NaN    NaN    NaN   NaN    NaN    NaN   \n",
       "1580         1045  Бур0205112    NaN    NaN  10.65  10.41   NaN    NaN  10.45   \n",
       "1581         1070  Бур0162369    NaN    NaN    NaN    NaN   NaN    NaN    NaN   \n",
       "\n",
       "          8  ...     22    23  24     25     26     27  28  29  30  31  \n",
       "0       NaN  ...    NaN  10.8 NaN    NaN    NaN    NaN NaN NaN NaN NaN  \n",
       "1       NaN  ...    NaN   NaN NaN    NaN    NaN    NaN NaN NaN NaN NaN  \n",
       "2      4.30  ...    NaN   NaN NaN    NaN    NaN    NaN NaN NaN NaN NaN  \n",
       "3     11.10  ...    NaN   NaN NaN    NaN  10.01  11.05 NaN NaN NaN NaN  \n",
       "4       NaN  ...    NaN   NaN NaN    NaN    NaN    NaN NaN NaN NaN NaN  \n",
       "...     ...  ...    ...   ...  ..    ...    ...    ...  ..  ..  ..  ..  \n",
       "1577    NaN  ...    NaN   NaN NaN    NaN    NaN    NaN NaN NaN NaN NaN  \n",
       "1578    NaN  ...    NaN   NaN NaN    NaN    NaN    NaN NaN NaN NaN NaN  \n",
       "1579    NaN  ...  11.33   NaN NaN  10.51  10.50    NaN NaN NaN NaN NaN  \n",
       "1580  10.51  ...    NaN   NaN NaN    NaN    NaN    NaN NaN NaN NaN NaN  \n",
       "1581    NaN  ...    NaN   NaN NaN    NaN    NaN    NaN NaN NaN NaN NaN  \n",
       "\n",
       "[1582 rows x 33 columns]"
      ]
     },
     "metadata": {},
     "output_type": "display_data"
    },
    {
     "name": "stdout",
     "output_type": "stream",
     "text": [
      "**************************************************\n"
     ]
    },
    {
     "data": {
      "text/plain": [
       "'Количество дубликатов:'"
      ]
     },
     "metadata": {},
     "output_type": "display_data"
    },
    {
     "data": {
      "text/plain": [
       "0"
      ]
     },
     "metadata": {},
     "output_type": "display_data"
    },
    {
     "data": {
      "text/plain": [
       "'Количество пропусков:'"
      ]
     },
     "metadata": {},
     "output_type": "display_data"
    },
    {
     "data": {
      "text/html": [
       "<style type=\"text/css\">\n",
       "</style>\n",
       "<table id=\"T_861c5_\">\n",
       "  <thead>\n",
       "    <tr>\n",
       "      <th class=\"blank level0\" >&nbsp;</th>\n",
       "      <th class=\"col_heading level0 col0\" >кол-во</th>\n",
       "      <th class=\"col_heading level0 col1\" >доля</th>\n",
       "    </tr>\n",
       "  </thead>\n",
       "  <tbody>\n",
       "    <tr>\n",
       "      <th id=\"T_861c5_level0_row0\" class=\"row_heading level0 row0\" >restoran_id</th>\n",
       "      <td id=\"T_861c5_row0_col0\" class=\"data row0 col0\" >0</td>\n",
       "      <td id=\"T_861c5_row0_col1\" class=\"data row0 col1\" >0.00%</td>\n",
       "    </tr>\n",
       "    <tr>\n",
       "      <th id=\"T_861c5_level0_row1\" class=\"row_heading level0 row1\" >courier_id</th>\n",
       "      <td id=\"T_861c5_row1_col0\" class=\"data row1 col0\" >0</td>\n",
       "      <td id=\"T_861c5_row1_col1\" class=\"data row1 col1\" >0.00%</td>\n",
       "    </tr>\n",
       "    <tr>\n",
       "      <th id=\"T_861c5_level0_row2\" class=\"row_heading level0 row2\" >1</th>\n",
       "      <td id=\"T_861c5_row2_col0\" class=\"data row2 col0\" >1255</td>\n",
       "      <td id=\"T_861c5_row2_col1\" class=\"data row2 col1\" >79.33%</td>\n",
       "    </tr>\n",
       "    <tr>\n",
       "      <th id=\"T_861c5_level0_row3\" class=\"row_heading level0 row3\" >2</th>\n",
       "      <td id=\"T_861c5_row3_col0\" class=\"data row3 col0\" >1238</td>\n",
       "      <td id=\"T_861c5_row3_col1\" class=\"data row3 col1\" >78.26%</td>\n",
       "    </tr>\n",
       "    <tr>\n",
       "      <th id=\"T_861c5_level0_row4\" class=\"row_heading level0 row4\" >3</th>\n",
       "      <td id=\"T_861c5_row4_col0\" class=\"data row4 col0\" >1209</td>\n",
       "      <td id=\"T_861c5_row4_col1\" class=\"data row4 col1\" >76.42%</td>\n",
       "    </tr>\n",
       "    <tr>\n",
       "      <th id=\"T_861c5_level0_row5\" class=\"row_heading level0 row5\" >4</th>\n",
       "      <td id=\"T_861c5_row5_col0\" class=\"data row5 col0\" >1169</td>\n",
       "      <td id=\"T_861c5_row5_col1\" class=\"data row5 col1\" >73.89%</td>\n",
       "    </tr>\n",
       "    <tr>\n",
       "      <th id=\"T_861c5_level0_row6\" class=\"row_heading level0 row6\" >5</th>\n",
       "      <td id=\"T_861c5_row6_col0\" class=\"data row6 col0\" >1171</td>\n",
       "      <td id=\"T_861c5_row6_col1\" class=\"data row6 col1\" >74.02%</td>\n",
       "    </tr>\n",
       "    <tr>\n",
       "      <th id=\"T_861c5_level0_row7\" class=\"row_heading level0 row7\" >6</th>\n",
       "      <td id=\"T_861c5_row7_col0\" class=\"data row7 col0\" >1186</td>\n",
       "      <td id=\"T_861c5_row7_col1\" class=\"data row7 col1\" >74.97%</td>\n",
       "    </tr>\n",
       "    <tr>\n",
       "      <th id=\"T_861c5_level0_row8\" class=\"row_heading level0 row8\" >7</th>\n",
       "      <td id=\"T_861c5_row8_col0\" class=\"data row8 col0\" >1240</td>\n",
       "      <td id=\"T_861c5_row8_col1\" class=\"data row8 col1\" >78.38%</td>\n",
       "    </tr>\n",
       "    <tr>\n",
       "      <th id=\"T_861c5_level0_row9\" class=\"row_heading level0 row9\" >8</th>\n",
       "      <td id=\"T_861c5_row9_col0\" class=\"data row9 col0\" >1253</td>\n",
       "      <td id=\"T_861c5_row9_col1\" class=\"data row9 col1\" >79.20%</td>\n",
       "    </tr>\n",
       "    <tr>\n",
       "      <th id=\"T_861c5_level0_row10\" class=\"row_heading level0 row10\" >9</th>\n",
       "      <td id=\"T_861c5_row10_col0\" class=\"data row10 col0\" >1222</td>\n",
       "      <td id=\"T_861c5_row10_col1\" class=\"data row10 col1\" >77.24%</td>\n",
       "    </tr>\n",
       "    <tr>\n",
       "      <th id=\"T_861c5_level0_row11\" class=\"row_heading level0 row11\" >10</th>\n",
       "      <td id=\"T_861c5_row11_col0\" class=\"data row11 col0\" >1235</td>\n",
       "      <td id=\"T_861c5_row11_col1\" class=\"data row11 col1\" >78.07%</td>\n",
       "    </tr>\n",
       "    <tr>\n",
       "      <th id=\"T_861c5_level0_row12\" class=\"row_heading level0 row12\" >11</th>\n",
       "      <td id=\"T_861c5_row12_col0\" class=\"data row12 col0\" >1170</td>\n",
       "      <td id=\"T_861c5_row12_col1\" class=\"data row12 col1\" >73.96%</td>\n",
       "    </tr>\n",
       "    <tr>\n",
       "      <th id=\"T_861c5_level0_row13\" class=\"row_heading level0 row13\" >12</th>\n",
       "      <td id=\"T_861c5_row13_col0\" class=\"data row13 col0\" >1164</td>\n",
       "      <td id=\"T_861c5_row13_col1\" class=\"data row13 col1\" >73.58%</td>\n",
       "    </tr>\n",
       "    <tr>\n",
       "      <th id=\"T_861c5_level0_row14\" class=\"row_heading level0 row14\" >13</th>\n",
       "      <td id=\"T_861c5_row14_col0\" class=\"data row14 col0\" >1176</td>\n",
       "      <td id=\"T_861c5_row14_col1\" class=\"data row14 col1\" >74.34%</td>\n",
       "    </tr>\n",
       "    <tr>\n",
       "      <th id=\"T_861c5_level0_row15\" class=\"row_heading level0 row15\" >14</th>\n",
       "      <td id=\"T_861c5_row15_col0\" class=\"data row15 col0\" >1224</td>\n",
       "      <td id=\"T_861c5_row15_col1\" class=\"data row15 col1\" >77.37%</td>\n",
       "    </tr>\n",
       "    <tr>\n",
       "      <th id=\"T_861c5_level0_row16\" class=\"row_heading level0 row16\" >15</th>\n",
       "      <td id=\"T_861c5_row16_col0\" class=\"data row16 col0\" >1246</td>\n",
       "      <td id=\"T_861c5_row16_col1\" class=\"data row16 col1\" >78.76%</td>\n",
       "    </tr>\n",
       "    <tr>\n",
       "      <th id=\"T_861c5_level0_row17\" class=\"row_heading level0 row17\" >16</th>\n",
       "      <td id=\"T_861c5_row17_col0\" class=\"data row17 col0\" >1231</td>\n",
       "      <td id=\"T_861c5_row17_col1\" class=\"data row17 col1\" >77.81%</td>\n",
       "    </tr>\n",
       "    <tr>\n",
       "      <th id=\"T_861c5_level0_row18\" class=\"row_heading level0 row18\" >17</th>\n",
       "      <td id=\"T_861c5_row18_col0\" class=\"data row18 col0\" >1215</td>\n",
       "      <td id=\"T_861c5_row18_col1\" class=\"data row18 col1\" >76.80%</td>\n",
       "    </tr>\n",
       "    <tr>\n",
       "      <th id=\"T_861c5_level0_row19\" class=\"row_heading level0 row19\" >18</th>\n",
       "      <td id=\"T_861c5_row19_col0\" class=\"data row19 col0\" >1175</td>\n",
       "      <td id=\"T_861c5_row19_col1\" class=\"data row19 col1\" >74.27%</td>\n",
       "    </tr>\n",
       "    <tr>\n",
       "      <th id=\"T_861c5_level0_row20\" class=\"row_heading level0 row20\" >19</th>\n",
       "      <td id=\"T_861c5_row20_col0\" class=\"data row20 col0\" >1158</td>\n",
       "      <td id=\"T_861c5_row20_col1\" class=\"data row20 col1\" >73.20%</td>\n",
       "    </tr>\n",
       "    <tr>\n",
       "      <th id=\"T_861c5_level0_row21\" class=\"row_heading level0 row21\" >20</th>\n",
       "      <td id=\"T_861c5_row21_col0\" class=\"data row21 col0\" >1172</td>\n",
       "      <td id=\"T_861c5_row21_col1\" class=\"data row21 col1\" >74.08%</td>\n",
       "    </tr>\n",
       "    <tr>\n",
       "      <th id=\"T_861c5_level0_row22\" class=\"row_heading level0 row22\" >21</th>\n",
       "      <td id=\"T_861c5_row22_col0\" class=\"data row22 col0\" >1244</td>\n",
       "      <td id=\"T_861c5_row22_col1\" class=\"data row22 col1\" >78.63%</td>\n",
       "    </tr>\n",
       "    <tr>\n",
       "      <th id=\"T_861c5_level0_row23\" class=\"row_heading level0 row23\" >22</th>\n",
       "      <td id=\"T_861c5_row23_col0\" class=\"data row23 col0\" >1230</td>\n",
       "      <td id=\"T_861c5_row23_col1\" class=\"data row23 col1\" >77.75%</td>\n",
       "    </tr>\n",
       "    <tr>\n",
       "      <th id=\"T_861c5_level0_row24\" class=\"row_heading level0 row24\" >23</th>\n",
       "      <td id=\"T_861c5_row24_col0\" class=\"data row24 col0\" >1214</td>\n",
       "      <td id=\"T_861c5_row24_col1\" class=\"data row24 col1\" >76.74%</td>\n",
       "    </tr>\n",
       "    <tr>\n",
       "      <th id=\"T_861c5_level0_row25\" class=\"row_heading level0 row25\" >24</th>\n",
       "      <td id=\"T_861c5_row25_col0\" class=\"data row25 col0\" >1213</td>\n",
       "      <td id=\"T_861c5_row25_col1\" class=\"data row25 col1\" >76.68%</td>\n",
       "    </tr>\n",
       "    <tr>\n",
       "      <th id=\"T_861c5_level0_row26\" class=\"row_heading level0 row26\" >25</th>\n",
       "      <td id=\"T_861c5_row26_col0\" class=\"data row26 col0\" >1175</td>\n",
       "      <td id=\"T_861c5_row26_col1\" class=\"data row26 col1\" >74.27%</td>\n",
       "    </tr>\n",
       "    <tr>\n",
       "      <th id=\"T_861c5_level0_row27\" class=\"row_heading level0 row27\" >26</th>\n",
       "      <td id=\"T_861c5_row27_col0\" class=\"data row27 col0\" >1169</td>\n",
       "      <td id=\"T_861c5_row27_col1\" class=\"data row27 col1\" >73.89%</td>\n",
       "    </tr>\n",
       "    <tr>\n",
       "      <th id=\"T_861c5_level0_row28\" class=\"row_heading level0 row28\" >27</th>\n",
       "      <td id=\"T_861c5_row28_col0\" class=\"data row28 col0\" >1202</td>\n",
       "      <td id=\"T_861c5_row28_col1\" class=\"data row28 col1\" >75.98%</td>\n",
       "    </tr>\n",
       "    <tr>\n",
       "      <th id=\"T_861c5_level0_row29\" class=\"row_heading level0 row29\" >28</th>\n",
       "      <td id=\"T_861c5_row29_col0\" class=\"data row29 col0\" >1580</td>\n",
       "      <td id=\"T_861c5_row29_col1\" class=\"data row29 col1\" >99.87%</td>\n",
       "    </tr>\n",
       "    <tr>\n",
       "      <th id=\"T_861c5_level0_row30\" class=\"row_heading level0 row30\" >29</th>\n",
       "      <td id=\"T_861c5_row30_col0\" class=\"data row30 col0\" >1582</td>\n",
       "      <td id=\"T_861c5_row30_col1\" class=\"data row30 col1\" >100.00%</td>\n",
       "    </tr>\n",
       "    <tr>\n",
       "      <th id=\"T_861c5_level0_row31\" class=\"row_heading level0 row31\" >30</th>\n",
       "      <td id=\"T_861c5_row31_col0\" class=\"data row31 col0\" >1582</td>\n",
       "      <td id=\"T_861c5_row31_col1\" class=\"data row31 col1\" >100.00%</td>\n",
       "    </tr>\n",
       "    <tr>\n",
       "      <th id=\"T_861c5_level0_row32\" class=\"row_heading level0 row32\" >31</th>\n",
       "      <td id=\"T_861c5_row32_col0\" class=\"data row32 col0\" >1582</td>\n",
       "      <td id=\"T_861c5_row32_col1\" class=\"data row32 col1\" >100.00%</td>\n",
       "    </tr>\n",
       "  </tbody>\n",
       "</table>\n"
      ],
      "text/plain": [
       "<pandas.io.formats.style.Styler at 0x1f1a12d2708>"
      ]
     },
     "metadata": {},
     "output_type": "display_data"
    }
   ],
   "source": [
    "info(time)"
   ]
  },
  {
   "cell_type": "markdown",
   "id": "f65c96a4",
   "metadata": {},
   "source": [
    "#### Обработка"
   ]
  },
  {
   "cell_type": "markdown",
   "id": "972479de",
   "metadata": {},
   "source": [
    "разворачиваем таблицу, чтоб дни соответствовали ресторану и курьеру."
   ]
  },
  {
   "cell_type": "code",
   "execution_count": 36,
   "id": "cbe897d2",
   "metadata": {},
   "outputs": [],
   "source": [
    "time = time.melt(id_vars=['restoran_id', 'courier_id'], var_name='day_of_month', value_name='amount_hours')"
   ]
  },
  {
   "cell_type": "code",
   "execution_count": 37,
   "id": "ed99d57e",
   "metadata": {
    "scrolled": true
   },
   "outputs": [
    {
     "name": "stdout",
     "output_type": "stream",
     "text": [
      "<class 'pandas.core.frame.DataFrame'>\n",
      "RangeIndex: 49042 entries, 0 to 49041\n",
      "Data columns (total 4 columns):\n",
      " #   Column        Non-Null Count  Dtype  \n",
      "---  ------        --------------  -----  \n",
      " 0   restoran_id   49042 non-null  int64  \n",
      " 1   courier_id    49042 non-null  object \n",
      " 2   day_of_month  49042 non-null  object \n",
      " 3   amount_hours  10160 non-null  float64\n",
      "dtypes: float64(1), int64(1), object(2)\n",
      "memory usage: 1.5+ MB\n"
     ]
    }
   ],
   "source": [
    "time.info()"
   ]
  },
  {
   "cell_type": "markdown",
   "id": "4f8d1393",
   "metadata": {},
   "source": [
    "переводим значения колонки `day_of_month` в `int`"
   ]
  },
  {
   "cell_type": "code",
   "execution_count": 38,
   "id": "6d121a0f",
   "metadata": {},
   "outputs": [],
   "source": [
    "time['day_of_month'] = time['day_of_month'].astype('int')"
   ]
  },
  {
   "cell_type": "code",
   "execution_count": 39,
   "id": "ba65c8fc",
   "metadata": {
    "scrolled": false
   },
   "outputs": [
    {
     "name": "stdout",
     "output_type": "stream",
     "text": [
      "<class 'pandas.core.frame.DataFrame'>\n",
      "RangeIndex: 49042 entries, 0 to 49041\n",
      "Data columns (total 4 columns):\n",
      " #   Column        Non-Null Count  Dtype  \n",
      "---  ------        --------------  -----  \n",
      " 0   restoran_id   49042 non-null  int64  \n",
      " 1   courier_id    49042 non-null  object \n",
      " 2   day_of_month  49042 non-null  int32  \n",
      " 3   amount_hours  10160 non-null  float64\n",
      "dtypes: float64(1), int32(1), int64(1), object(1)\n",
      "memory usage: 1.3+ MB\n"
     ]
    },
    {
     "data": {
      "text/plain": [
       "None"
      ]
     },
     "metadata": {},
     "output_type": "display_data"
    },
    {
     "data": {
      "text/html": [
       "<div>\n",
       "<style scoped>\n",
       "    .dataframe tbody tr th:only-of-type {\n",
       "        vertical-align: middle;\n",
       "    }\n",
       "\n",
       "    .dataframe tbody tr th {\n",
       "        vertical-align: top;\n",
       "    }\n",
       "\n",
       "    .dataframe thead th {\n",
       "        text-align: right;\n",
       "    }\n",
       "</style>\n",
       "<table border=\"1\" class=\"dataframe\">\n",
       "  <thead>\n",
       "    <tr style=\"text-align: right;\">\n",
       "      <th></th>\n",
       "      <th>restoran_id</th>\n",
       "      <th>courier_id</th>\n",
       "      <th>day_of_month</th>\n",
       "      <th>amount_hours</th>\n",
       "    </tr>\n",
       "  </thead>\n",
       "  <tbody>\n",
       "    <tr>\n",
       "      <th>6</th>\n",
       "      <td>13</td>\n",
       "      <td>Бур0052280</td>\n",
       "      <td>1</td>\n",
       "      <td>NaN</td>\n",
       "    </tr>\n",
       "    <tr>\n",
       "      <th>7</th>\n",
       "      <td>13</td>\n",
       "      <td>Бур0033052</td>\n",
       "      <td>1</td>\n",
       "      <td>NaN</td>\n",
       "    </tr>\n",
       "    <tr>\n",
       "      <th>8</th>\n",
       "      <td>13</td>\n",
       "      <td>Бур0207029</td>\n",
       "      <td>1</td>\n",
       "      <td>NaN</td>\n",
       "    </tr>\n",
       "    <tr>\n",
       "      <th>9</th>\n",
       "      <td>13</td>\n",
       "      <td>Бур0063143</td>\n",
       "      <td>1</td>\n",
       "      <td>5.48</td>\n",
       "    </tr>\n",
       "    <tr>\n",
       "      <th>10</th>\n",
       "      <td>13</td>\n",
       "      <td>Бур0204226</td>\n",
       "      <td>1</td>\n",
       "      <td>NaN</td>\n",
       "    </tr>\n",
       "    <tr>\n",
       "      <th>...</th>\n",
       "      <td>...</td>\n",
       "      <td>...</td>\n",
       "      <td>...</td>\n",
       "      <td>...</td>\n",
       "    </tr>\n",
       "    <tr>\n",
       "      <th>47467</th>\n",
       "      <td>13</td>\n",
       "      <td>Бур0033052</td>\n",
       "      <td>31</td>\n",
       "      <td>NaN</td>\n",
       "    </tr>\n",
       "    <tr>\n",
       "      <th>47468</th>\n",
       "      <td>13</td>\n",
       "      <td>Бур0207029</td>\n",
       "      <td>31</td>\n",
       "      <td>NaN</td>\n",
       "    </tr>\n",
       "    <tr>\n",
       "      <th>47469</th>\n",
       "      <td>13</td>\n",
       "      <td>Бур0063143</td>\n",
       "      <td>31</td>\n",
       "      <td>NaN</td>\n",
       "    </tr>\n",
       "    <tr>\n",
       "      <th>47470</th>\n",
       "      <td>13</td>\n",
       "      <td>Бур0204226</td>\n",
       "      <td>31</td>\n",
       "      <td>NaN</td>\n",
       "    </tr>\n",
       "    <tr>\n",
       "      <th>47471</th>\n",
       "      <td>13</td>\n",
       "      <td>Бур0197166</td>\n",
       "      <td>31</td>\n",
       "      <td>NaN</td>\n",
       "    </tr>\n",
       "  </tbody>\n",
       "</table>\n",
       "<p>186 rows × 4 columns</p>\n",
       "</div>"
      ],
      "text/plain": [
       "       restoran_id  courier_id  day_of_month  amount_hours\n",
       "6               13  Бур0052280             1           NaN\n",
       "7               13  Бур0033052             1           NaN\n",
       "8               13  Бур0207029             1           NaN\n",
       "9               13  Бур0063143             1          5.48\n",
       "10              13  Бур0204226             1           NaN\n",
       "...            ...         ...           ...           ...\n",
       "47467           13  Бур0033052            31           NaN\n",
       "47468           13  Бур0207029            31           NaN\n",
       "47469           13  Бур0063143            31           NaN\n",
       "47470           13  Бур0204226            31           NaN\n",
       "47471           13  Бур0197166            31           NaN\n",
       "\n",
       "[186 rows x 4 columns]"
      ]
     },
     "metadata": {},
     "output_type": "display_data"
    },
    {
     "name": "stdout",
     "output_type": "stream",
     "text": [
      "Количество курьеров: 1503\n"
     ]
    }
   ],
   "source": [
    "display(time.info())\n",
    "display(time.query('restoran_id == 13'))\n",
    "print('Количество курьеров:', time['courier_id'].nunique())"
   ]
  },
  {
   "cell_type": "markdown",
   "id": "8b4e0125",
   "metadata": {},
   "source": [
    "#### Проверка часов"
   ]
  },
  {
   "cell_type": "markdown",
   "id": "1f1aba00",
   "metadata": {},
   "source": [
    "Теперь сделаю сводную чтобы убрать возможные ошибки повторения строк в таблице. Посчитаю по каждому ресторану, курьеру, дню месяца сумму часов курьеров"
   ]
  },
  {
   "cell_type": "code",
   "execution_count": 40,
   "id": "94a907c9",
   "metadata": {},
   "outputs": [
    {
     "data": {
      "text/plain": [
       "(49042, 4)"
      ]
     },
     "metadata": {},
     "output_type": "display_data"
    },
    {
     "name": "stdout",
     "output_type": "stream",
     "text": [
      "сумма часов до объединения 88100.65\n"
     ]
    },
    {
     "data": {
      "text/plain": [
       "(49042, 4)"
      ]
     },
     "metadata": {},
     "output_type": "display_data"
    },
    {
     "name": "stdout",
     "output_type": "stream",
     "text": [
      "сумма часов после объединения 88100.65\n"
     ]
    }
   ],
   "source": [
    "display(time.shape)\n",
    "print('сумма часов до объединения', time['amount_hours'].sum())\n",
    "time = time.groupby(['restoran_id', 'courier_id', 'day_of_month']).agg({'amount_hours' : 'sum'}).reset_index()\n",
    "display(time.shape)\n",
    "print('сумма часов после объединения', time['amount_hours'].sum())"
   ]
  },
  {
   "cell_type": "markdown",
   "id": "574531f4",
   "metadata": {},
   "source": [
    "## Объединение таблиц"
   ]
  },
  {
   "cell_type": "markdown",
   "id": "cd3e8452",
   "metadata": {},
   "source": [
    "### Ставки"
   ]
  },
  {
   "cell_type": "markdown",
   "id": "763a904e",
   "metadata": {},
   "source": [
    "Создам переменную `pay_table` в которой будет готовая таблица для расчета оплат\n",
    "\n",
    "К таблице с заказами нужно:\n",
    "* Оставить только необходимые поля для работы `'order_id', 'restoran_id', 'courier_id', 'type_of_delivery_area', 'order_date'`\n",
    "* подтянуть: данные по ставкам по каждому типу курьера\n",
    "    "
   ]
  },
  {
   "cell_type": "code",
   "execution_count": 41,
   "id": "a0c77031",
   "metadata": {},
   "outputs": [],
   "source": [
    "order = order[['order_id', 'restoran_id', 'courier_id', 'type_of_delivery_area', 'order_date']]"
   ]
  },
  {
   "cell_type": "code",
   "execution_count": 42,
   "id": "f731f55e",
   "metadata": {},
   "outputs": [],
   "source": [
    "pay_table = order.merge(rate, how='left', on='restoran_id')"
   ]
  },
  {
   "cell_type": "markdown",
   "id": "2fd86154",
   "metadata": {},
   "source": [
    "Теперь оставлю только заказы которые входят в рамки действия ставки"
   ]
  },
  {
   "cell_type": "code",
   "execution_count": 43,
   "id": "856794a1",
   "metadata": {},
   "outputs": [],
   "source": [
    "pay_table = pay_table.query('order_date >= date_on and order_date <= date_off')"
   ]
  },
  {
   "cell_type": "markdown",
   "id": "b6ecc6de",
   "metadata": {},
   "source": [
    "#### Проверка после объединения"
   ]
  },
  {
   "cell_type": "code",
   "execution_count": 44,
   "id": "d7ddb223",
   "metadata": {
    "scrolled": true
   },
   "outputs": [
    {
     "name": "stdout",
     "output_type": "stream",
     "text": [
      "\u001b[1mМЕТРИКИ ПО ИСХОДНИКУ ORDER:\u001b[0m\n",
      "\n",
      "Количество уникальных id ресторанов: 324\n",
      "Уникальные значения поля Тип зоны доставки: ['OnCar' 'OnFoot' 'OnBike']\n",
      "Количество заказов: 62744\n",
      "Количество курьеров: 983\n"
     ]
    },
    {
     "data": {
      "text/plain": [
       "(62744, 5)"
      ]
     },
     "metadata": {},
     "output_type": "display_data"
    },
    {
     "name": "stdout",
     "output_type": "stream",
     "text": [
      "\n",
      "\u001b[1mМЕТРИКИ ПОСЛЕ ОБЪЕДИНЕНИЯ СО СТАВКАМИ:\u001b[0m\n",
      "\n",
      "Количество уникальных id ресторанов: 324\n",
      "Уникальные значения поля Тип зоны доставки: ['OnCar' 'OnFoot' 'OnBike']\n",
      "Количество заказов: 62744\n",
      "Количество курьеров: 983\n"
     ]
    },
    {
     "data": {
      "text/plain": [
       "(62744, 11)"
      ]
     },
     "metadata": {},
     "output_type": "display_data"
    },
    {
     "name": "stdout",
     "output_type": "stream",
     "text": [
      "\n",
      "\u001b[1mРАЗНИЦА В КОЛИЧЕСТВЕ ЗАКАЗОВ:\u001b[0m\n",
      "0\n"
     ]
    }
   ],
   "source": [
    "print('\\033[1m' + 'МЕТРИКИ ПО ИСХОДНИКУ ORDER:' + '\\033[0m')\n",
    "print('')\n",
    "print('Количество уникальных id ресторанов:', order['restoran_id'].nunique())\n",
    "print('Уникальные значения поля Тип зоны доставки:', order['type_of_delivery_area'].unique())\n",
    "print('Количество заказов:', order['order_id'].count())\n",
    "print('Количество курьеров:', order['courier_id'].nunique())\n",
    "display(order.shape)\n",
    "print('')\n",
    "print('\\033[1m' + 'МЕТРИКИ ПОСЛЕ ОБЪЕДИНЕНИЯ СО СТАВКАМИ:' + '\\033[0m')\n",
    "print('')\n",
    "print('Количество уникальных id ресторанов:', pay_table['restoran_id'].nunique())\n",
    "print('Уникальные значения поля Тип зоны доставки:', pay_table['type_of_delivery_area'].unique())\n",
    "print('Количество заказов:', pay_table['order_id'].count())\n",
    "print('Количество курьеров:', pay_table['courier_id'].nunique())\n",
    "display(pay_table.shape)\n",
    "print('')\n",
    "print('\\033[1m' + 'РАЗНИЦА В КОЛИЧЕСТВЕ ЗАКАЗОВ:' + '\\033[0m')\n",
    "print(order['order_id'].count() - pay_table['order_id'].count())"
   ]
  },
  {
   "cell_type": "code",
   "execution_count": 45,
   "id": "780c8ac8",
   "metadata": {
    "scrolled": false
   },
   "outputs": [
    {
     "data": {
      "text/plain": [
       "[]"
      ]
     },
     "execution_count": 45,
     "metadata": {},
     "output_type": "execute_result"
    }
   ],
   "source": [
    "list(set(order['order_id']) ^ set(pay_table['order_id']))"
   ]
  },
  {
   "cell_type": "markdown",
   "id": "d6ca4372",
   "metadata": {},
   "source": [
    "### Типы курьеров"
   ]
  },
  {
   "cell_type": "code",
   "execution_count": 46,
   "id": "e4bdb0a9",
   "metadata": {},
   "outputs": [],
   "source": [
    "pay_table = pay_table.merge(types, how='left', on='courier_id')"
   ]
  },
  {
   "cell_type": "markdown",
   "id": "03684904",
   "metadata": {},
   "source": [
    "#### Проверка после объединения"
   ]
  },
  {
   "cell_type": "code",
   "execution_count": 47,
   "id": "365dc021",
   "metadata": {
    "scrolled": false
   },
   "outputs": [
    {
     "name": "stdout",
     "output_type": "stream",
     "text": [
      "\u001b[1mМЕТРИКИ ПО ИСХОДНИКУ ORDER:\u001b[0m\n",
      "\n",
      "Количество уникальных id ресторанов: 324\n",
      "Уникальные значения поля Тип зоны доставки: ['OnCar' 'OnFoot' 'OnBike']\n",
      "Количество заказов: 62744\n",
      "Количество курьеров: 983\n"
     ]
    },
    {
     "data": {
      "text/plain": [
       "(62744, 5)"
      ]
     },
     "metadata": {},
     "output_type": "display_data"
    },
    {
     "name": "stdout",
     "output_type": "stream",
     "text": [
      "\n",
      "\u001b[1mМЕТРИКИ ПОСЛЕ ОБЪЕДИНЕНИЯ С ТИПАМИ ПЕРЕМЕЩЕНИЯ:\u001b[0m\n",
      "\n",
      "Количество уникальных id ресторанов: 324\n",
      "Уникальные значения поля Тип зоны доставки: ['OnCar' 'OnFoot' 'OnBike']\n",
      "Количество заказов: 62744\n",
      "Количество курьеров: 983\n",
      "Уникальных типов перемещения ['Авто' 'Вело' 'Пеший']\n"
     ]
    },
    {
     "data": {
      "text/plain": [
       "(62744, 12)"
      ]
     },
     "metadata": {},
     "output_type": "display_data"
    },
    {
     "name": "stdout",
     "output_type": "stream",
     "text": [
      "\n",
      "\u001b[1mРАЗНИЦА В КОЛИЧЕСТВЕ ЗАКАЗОВ:\u001b[0m\n",
      "0\n"
     ]
    }
   ],
   "source": [
    "print('\\033[1m' + 'МЕТРИКИ ПО ИСХОДНИКУ ORDER:' + '\\033[0m')\n",
    "print('')\n",
    "print('Количество уникальных id ресторанов:', order['restoran_id'].nunique())\n",
    "print('Уникальные значения поля Тип зоны доставки:', order['type_of_delivery_area'].unique())\n",
    "print('Количество заказов:', order['order_id'].count())\n",
    "print('Количество курьеров:', order['courier_id'].nunique())\n",
    "display(order.shape)\n",
    "print('')\n",
    "print('\\033[1m' + 'МЕТРИКИ ПОСЛЕ ОБЪЕДИНЕНИЯ С ТИПАМИ ПЕРЕМЕЩЕНИЯ:' + '\\033[0m')\n",
    "print('')\n",
    "print('Количество уникальных id ресторанов:', pay_table['restoran_id'].nunique())\n",
    "print('Уникальные значения поля Тип зоны доставки:', pay_table['type_of_delivery_area'].unique())\n",
    "print('Количество заказов:', pay_table['order_id'].count())\n",
    "print('Количество курьеров:', pay_table['courier_id'].nunique())\n",
    "print('Уникальных типов перемещения',pay_table['courier_type_of_movement'].unique())\n",
    "display(pay_table.shape)\n",
    "print('')\n",
    "print('\\033[1m' + 'РАЗНИЦА В КОЛИЧЕСТВЕ ЗАКАЗОВ:' + '\\033[0m')\n",
    "print(order['order_id'].count() - pay_table['order_id'].count())"
   ]
  },
  {
   "cell_type": "markdown",
   "id": "6186fe52",
   "metadata": {},
   "source": [
    "Сверю список ресторанов из заказов и из таблицы для оплат после объединения. Некоторые рестораны могли еще не внести в `rate`"
   ]
  },
  {
   "cell_type": "code",
   "execution_count": 48,
   "id": "3d3338fa",
   "metadata": {},
   "outputs": [
    {
     "data": {
      "text/plain": [
       "[]"
      ]
     },
     "execution_count": 48,
     "metadata": {},
     "output_type": "execute_result"
    }
   ],
   "source": [
    "list(set(order['restoran_id']) ^ set(pay_table['restoran_id']))"
   ]
  },
  {
   "cell_type": "markdown",
   "id": "67b9f9f8",
   "metadata": {},
   "source": [
    "### Часы курьеров"
   ]
  },
  {
   "cell_type": "markdown",
   "id": "5ca2c675",
   "metadata": {},
   "source": [
    "Добавлю столбец `day_of_month` с числовым значением даты заказа, чтобы получить день месяца в такомже формате как в `time`"
   ]
  },
  {
   "cell_type": "code",
   "execution_count": 49,
   "id": "0072e4e4",
   "metadata": {},
   "outputs": [],
   "source": [
    "pay_table['day_of_month'] = pay_table['order_date'].dt.day"
   ]
  },
  {
   "cell_type": "markdown",
   "id": "365a9532",
   "metadata": {},
   "source": [
    "Теперь объединю таблицу `time` с сборной таблицей для расчета оплаты `pay_table`"
   ]
  },
  {
   "cell_type": "code",
   "execution_count": 50,
   "id": "a5414e72",
   "metadata": {},
   "outputs": [],
   "source": [
    "pay_table = pay_table.merge(time, how='left', on=['restoran_id','courier_id', 'day_of_month'])"
   ]
  },
  {
   "cell_type": "markdown",
   "id": "1f1e4ba3",
   "metadata": {},
   "source": [
    "#### Проверка после объединения"
   ]
  },
  {
   "cell_type": "code",
   "execution_count": 51,
   "id": "e52fc1bf",
   "metadata": {
    "scrolled": true
   },
   "outputs": [
    {
     "name": "stdout",
     "output_type": "stream",
     "text": [
      "\u001b[1mМЕТРИКИ ПО ИСХОДНИКУ ORDER:\u001b[0m\n",
      "\n",
      "Количество уникальных id ресторанов: 324\n",
      "Уникальные значения поля Тип зоны доставки: ['OnCar' 'OnFoot' 'OnBike']\n",
      "Количество заказов: 62744\n",
      "Количество курьеров: 983\n"
     ]
    },
    {
     "data": {
      "text/plain": [
       "(62744, 5)"
      ]
     },
     "metadata": {},
     "output_type": "display_data"
    },
    {
     "name": "stdout",
     "output_type": "stream",
     "text": [
      "\n",
      "\u001b[1mМЕТРИКИ ПОСЛЕ ОБЪЕДИНЕНИЯ С ЧАСАМИ:\u001b[0m\n",
      "\n",
      "Количество уникальных id ресторанов: 324\n",
      "Уникальные значения поля Тип зоны доставки: ['OnCar' 'OnFoot' 'OnBike']\n",
      "Количество заказов: 62744\n",
      "Количество курьеров: 983\n",
      "Уникальных типов перемещения ['Авто' 'Вело' 'Пеший']\n"
     ]
    },
    {
     "data": {
      "text/plain": [
       "(62744, 14)"
      ]
     },
     "metadata": {},
     "output_type": "display_data"
    },
    {
     "name": "stdout",
     "output_type": "stream",
     "text": [
      "\n",
      "\u001b[1mРАЗНИЦА В КОЛИЧЕСТВЕ ЗАКАЗОВ:\u001b[0m\n",
      "0\n"
     ]
    }
   ],
   "source": [
    "print('\\033[1m' + 'МЕТРИКИ ПО ИСХОДНИКУ ORDER:' + '\\033[0m')\n",
    "print('')\n",
    "print('Количество уникальных id ресторанов:', order['restoran_id'].nunique())\n",
    "print('Уникальные значения поля Тип зоны доставки:', order['type_of_delivery_area'].unique())\n",
    "print('Количество заказов:', order['order_id'].count())\n",
    "print('Количество курьеров:', order['courier_id'].nunique())\n",
    "display(order.shape)\n",
    "print('')\n",
    "print('\\033[1m' + 'МЕТРИКИ ПОСЛЕ ОБЪЕДИНЕНИЯ С ЧАСАМИ:' + '\\033[0m')\n",
    "print('')\n",
    "print('Количество уникальных id ресторанов:', pay_table['restoran_id'].nunique())\n",
    "print('Уникальные значения поля Тип зоны доставки:', pay_table['type_of_delivery_area'].unique())\n",
    "print('Количество заказов:', pay_table['order_id'].count())\n",
    "print('Количество курьеров:', pay_table['courier_id'].nunique())\n",
    "print('Уникальных типов перемещения',pay_table['courier_type_of_movement'].unique())\n",
    "display(pay_table.shape)\n",
    "print('')\n",
    "print('\\033[1m' + 'РАЗНИЦА В КОЛИЧЕСТВЕ ЗАКАЗОВ:' + '\\033[0m')\n",
    "print(order['order_id'].count() - pay_table['order_id'].count())"
   ]
  },
  {
   "cell_type": "markdown",
   "id": "31f30fdc",
   "metadata": {},
   "source": [
    "## Расчет оплаты"
   ]
  },
  {
   "cell_type": "markdown",
   "id": "cc904311",
   "metadata": {},
   "source": [
    "### Подготовка"
   ]
  },
  {
   "cell_type": "markdown",
   "id": "7ba46a60",
   "metadata": {},
   "source": [
    "Добавлю столбец `count_day_orders` куда посчитаю общее количество заказов курьера за дату заказа"
   ]
  },
  {
   "cell_type": "code",
   "execution_count": 52,
   "id": "4b31975b",
   "metadata": {},
   "outputs": [],
   "source": [
    "pay_table['count_day_orders'] = np.nan \n",
    "pay_table['count_day_orders'] = pay_table['count_day_orders'].fillna(pay_table.groupby([\"courier_id\", \"order_date\"])[\"order_id\"].transform(\"count\"))"
   ]
  },
  {
   "cell_type": "markdown",
   "id": "0fc7a5a8",
   "metadata": {},
   "source": [
    "Добавлю столбец `delta_days` с разницей даты заказа с датой открытия доставки в ресторане"
   ]
  },
  {
   "cell_type": "code",
   "execution_count": 53,
   "id": "9d5c203c",
   "metadata": {},
   "outputs": [],
   "source": [
    "pay_table['delta_days'] = pay_table['order_date'] - pay_table['date_open_restoran']"
   ]
  },
  {
   "cell_type": "markdown",
   "id": "e064a490",
   "metadata": {},
   "source": [
    "### Расчет оплаты по заказам"
   ]
  },
  {
   "cell_type": "markdown",
   "id": "52695756",
   "metadata": {},
   "source": [
    "Использую функцию `calculation` для расчета оплаты по каждому заказу, запишу в столбец `pay`"
   ]
  },
  {
   "cell_type": "code",
   "execution_count": 54,
   "id": "e362708f",
   "metadata": {},
   "outputs": [],
   "source": [
    "pay_table['pay'] = pay_table.apply(calculation, axis=1)"
   ]
  },
  {
   "cell_type": "markdown",
   "id": "99d55ff1",
   "metadata": {},
   "source": [
    "#### Проверка после расчета"
   ]
  },
  {
   "cell_type": "code",
   "execution_count": 55,
   "id": "55ecdd35",
   "metadata": {
    "scrolled": false
   },
   "outputs": [
    {
     "name": "stdout",
     "output_type": "stream",
     "text": [
      "\u001b[1mМЕТРИКИ ПО ИСХОДНИКУ ORDER:\u001b[0m\n",
      "\n",
      "Количество уникальных id ресторанов: 324\n",
      "Уникальные значения поля Тип зоны доставки: ['OnCar' 'OnFoot' 'OnBike']\n",
      "Количество заказов: 62744\n",
      "Количество курьеров: 983\n"
     ]
    },
    {
     "data": {
      "text/plain": [
       "(62744, 5)"
      ]
     },
     "metadata": {},
     "output_type": "display_data"
    },
    {
     "name": "stdout",
     "output_type": "stream",
     "text": [
      "\n",
      "\u001b[1mМЕТРИКИ ПОСЛЕ РАСЧЕТА ОПЛАТЫ ЗА ЗАКАЗ:\u001b[0m\n",
      "\n",
      "Количество уникальных id ресторанов: 324\n",
      "Уникальные значения поля Тип зоны доставки: ['OnCar' 'OnFoot' 'OnBike']\n",
      "Количество заказов: 62744\n",
      "Количество курьеров: 983\n",
      "Уникальных типов перемещения ['Авто' 'Вело' 'Пеший']\n"
     ]
    },
    {
     "data": {
      "text/plain": [
       "(62744, 17)"
      ]
     },
     "metadata": {},
     "output_type": "display_data"
    },
    {
     "name": "stdout",
     "output_type": "stream",
     "text": [
      "\n",
      "\u001b[1mРАЗНИЦА В КОЛИЧЕСТВЕ ЗАКАЗОВ:\u001b[0m\n",
      "0\n"
     ]
    }
   ],
   "source": [
    "print('\\033[1m' + 'МЕТРИКИ ПО ИСХОДНИКУ ORDER:' + '\\033[0m')\n",
    "print('')\n",
    "print('Количество уникальных id ресторанов:', order['restoran_id'].nunique())\n",
    "print('Уникальные значения поля Тип зоны доставки:', order['type_of_delivery_area'].unique())\n",
    "print('Количество заказов:', order['order_id'].count())\n",
    "print('Количество курьеров:', order['courier_id'].nunique())\n",
    "display(order.shape)\n",
    "print('')\n",
    "print('\\033[1m' + 'МЕТРИКИ ПОСЛЕ РАСЧЕТА ОПЛАТЫ ЗА ЗАКАЗ:' + '\\033[0m')\n",
    "print('')\n",
    "print('Количество уникальных id ресторанов:', pay_table['restoran_id'].nunique())\n",
    "print('Уникальные значения поля Тип зоны доставки:', pay_table['type_of_delivery_area'].unique())\n",
    "print('Количество заказов:', pay_table['order_id'].count())\n",
    "print('Количество курьеров:', pay_table['courier_id'].nunique())\n",
    "print('Уникальных типов перемещения',pay_table['courier_type_of_movement'].unique())\n",
    "display(pay_table.shape)\n",
    "print('')\n",
    "print('\\033[1m' + 'РАЗНИЦА В КОЛИЧЕСТВЕ ЗАКАЗОВ:' + '\\033[0m')\n",
    "print(order['order_id'].count() - pay_table['order_id'].count())"
   ]
  },
  {
   "cell_type": "markdown",
   "id": "0ebd3e5a",
   "metadata": {},
   "source": [
    "### Сводная таблица с общей оплатой курьерам"
   ]
  },
  {
   "cell_type": "markdown",
   "id": "b5765f4b",
   "metadata": {},
   "source": [
    "Сделаю сводную таблицу `agr_pay_table` с общей суммой оплат по каждому ресторану, курьеру за весь период"
   ]
  },
  {
   "cell_type": "code",
   "execution_count": 56,
   "id": "be449ec5",
   "metadata": {},
   "outputs": [],
   "source": [
    "agr_pay_table = pay_table.groupby(['restoran_id', 'courier_id']).agg({'pay' : 'sum'}).reset_index()"
   ]
  },
  {
   "cell_type": "code",
   "execution_count": 57,
   "id": "1b2e1aab",
   "metadata": {
    "scrolled": false
   },
   "outputs": [
    {
     "name": "stdout",
     "output_type": "stream",
     "text": [
      "\u001b[1mМЕТРИКИ ПО СВОДНОЙ ПО ОПЛАТАМ:\u001b[0m\n",
      "\n",
      "общая сумма выплат: 103501.90000000001\n",
      "Количество курьеров - строки: 1004\n",
      "Количество курьеров уникальное: 983\n",
      "\n",
      "ТОП 5 курьеров с минимальной суммой:\n"
     ]
    },
    {
     "data": {
      "text/html": [
       "<div>\n",
       "<style scoped>\n",
       "    .dataframe tbody tr th:only-of-type {\n",
       "        vertical-align: middle;\n",
       "    }\n",
       "\n",
       "    .dataframe tbody tr th {\n",
       "        vertical-align: top;\n",
       "    }\n",
       "\n",
       "    .dataframe thead th {\n",
       "        text-align: right;\n",
       "    }\n",
       "</style>\n",
       "<table border=\"1\" class=\"dataframe\">\n",
       "  <thead>\n",
       "    <tr style=\"text-align: right;\">\n",
       "      <th></th>\n",
       "      <th>restoran_id</th>\n",
       "      <th>courier_id</th>\n",
       "      <th>pay</th>\n",
       "    </tr>\n",
       "  </thead>\n",
       "  <tbody>\n",
       "    <tr>\n",
       "      <th>912</th>\n",
       "      <td>937</td>\n",
       "      <td>Бур0200933</td>\n",
       "      <td>1.6</td>\n",
       "    </tr>\n",
       "    <tr>\n",
       "      <th>486</th>\n",
       "      <td>580</td>\n",
       "      <td>Бур0206967</td>\n",
       "      <td>3.2</td>\n",
       "    </tr>\n",
       "    <tr>\n",
       "      <th>739</th>\n",
       "      <td>807</td>\n",
       "      <td>Бур0197433</td>\n",
       "      <td>3.2</td>\n",
       "    </tr>\n",
       "    <tr>\n",
       "      <th>10</th>\n",
       "      <td>22</td>\n",
       "      <td>Бур0206538</td>\n",
       "      <td>3.2</td>\n",
       "    </tr>\n",
       "    <tr>\n",
       "      <th>159</th>\n",
       "      <td>226</td>\n",
       "      <td>Бур0162369</td>\n",
       "      <td>3.2</td>\n",
       "    </tr>\n",
       "  </tbody>\n",
       "</table>\n",
       "</div>"
      ],
      "text/plain": [
       "     restoran_id  courier_id  pay\n",
       "912          937  Бур0200933  1.6\n",
       "486          580  Бур0206967  3.2\n",
       "739          807  Бур0197433  3.2\n",
       "10            22  Бур0206538  3.2\n",
       "159          226  Бур0162369  3.2"
      ]
     },
     "metadata": {},
     "output_type": "display_data"
    },
    {
     "name": "stdout",
     "output_type": "stream",
     "text": [
      "\n",
      "ТОП 5 курьеров с максимальной суммой:\n"
     ]
    },
    {
     "data": {
      "text/html": [
       "<div>\n",
       "<style scoped>\n",
       "    .dataframe tbody tr th:only-of-type {\n",
       "        vertical-align: middle;\n",
       "    }\n",
       "\n",
       "    .dataframe tbody tr th {\n",
       "        vertical-align: top;\n",
       "    }\n",
       "\n",
       "    .dataframe thead th {\n",
       "        text-align: right;\n",
       "    }\n",
       "</style>\n",
       "<table border=\"1\" class=\"dataframe\">\n",
       "  <thead>\n",
       "    <tr style=\"text-align: right;\">\n",
       "      <th></th>\n",
       "      <th>restoran_id</th>\n",
       "      <th>courier_id</th>\n",
       "      <th>pay</th>\n",
       "    </tr>\n",
       "  </thead>\n",
       "  <tbody>\n",
       "    <tr>\n",
       "      <th>857</th>\n",
       "      <td>893</td>\n",
       "      <td>Бур0199265</td>\n",
       "      <td>339.0</td>\n",
       "    </tr>\n",
       "    <tr>\n",
       "      <th>923</th>\n",
       "      <td>951</td>\n",
       "      <td>Бур0183653</td>\n",
       "      <td>342.4</td>\n",
       "    </tr>\n",
       "    <tr>\n",
       "      <th>430</th>\n",
       "      <td>521</td>\n",
       "      <td>Бур0203210</td>\n",
       "      <td>345.6</td>\n",
       "    </tr>\n",
       "    <tr>\n",
       "      <th>353</th>\n",
       "      <td>445</td>\n",
       "      <td>Бур0202927</td>\n",
       "      <td>370.8</td>\n",
       "    </tr>\n",
       "    <tr>\n",
       "      <th>50</th>\n",
       "      <td>100</td>\n",
       "      <td>Бур0194949</td>\n",
       "      <td>415.8</td>\n",
       "    </tr>\n",
       "  </tbody>\n",
       "</table>\n",
       "</div>"
      ],
      "text/plain": [
       "     restoran_id  courier_id    pay\n",
       "857          893  Бур0199265  339.0\n",
       "923          951  Бур0183653  342.4\n",
       "430          521  Бур0203210  345.6\n",
       "353          445  Бур0202927  370.8\n",
       "50           100  Бур0194949  415.8"
      ]
     },
     "metadata": {},
     "output_type": "display_data"
    }
   ],
   "source": [
    "print('\\033[1m' + 'МЕТРИКИ ПО СВОДНОЙ ПО ОПЛАТАМ:' + '\\033[0m')\n",
    "print('')\n",
    "print('общая сумма выплат:', agr_pay_table['pay'].sum())\n",
    "print('Количество курьеров - строки:', agr_pay_table['courier_id'].count())\n",
    "print('Количество курьеров уникальное:', agr_pay_table['courier_id'].nunique())\n",
    "print('')\n",
    "print('ТОП 5 курьеров с минимальной суммой:')\n",
    "display(agr_pay_table.sort_values('pay').head())\n",
    "print('')\n",
    "print('ТОП 5 курьеров с максимальной суммой:')\n",
    "display(agr_pay_table.sort_values('pay').tail())"
   ]
  },
  {
   "cell_type": "markdown",
   "id": "87fc8d75",
   "metadata": {},
   "source": [
    "### выгрузка файла с расчетом"
   ]
  },
  {
   "cell_type": "code",
   "execution_count": 58,
   "id": "2cabc368",
   "metadata": {},
   "outputs": [],
   "source": [
    "agr_pay_table.to_excel('pay_table.xlsx', index=False)"
   ]
  },
  {
   "cell_type": "markdown",
   "id": "30edc54f",
   "metadata": {},
   "source": [
    "## Баг репорт"
   ]
  },
  {
   "cell_type": "markdown",
   "id": "da0243cb",
   "metadata": {},
   "source": [
    "### курьеры с несколькими типами перемещения"
   ]
  },
  {
   "cell_type": "markdown",
   "id": "c596486e",
   "metadata": {},
   "source": [
    "Есть курьеры с несколькими типами перемещения, они в `bad_couriers_type` выгружу их в эксель для передачи ответственным"
   ]
  },
  {
   "cell_type": "code",
   "execution_count": 59,
   "id": "f61e0cb9",
   "metadata": {},
   "outputs": [],
   "source": [
    "bad_couriers_type.to_excel(\"bad_couriers_type.xlsx\", index = False)"
   ]
  },
  {
   "cell_type": "markdown",
   "id": "f94256cd",
   "metadata": {},
   "source": [
    "## Доработать"
   ]
  },
  {
   "cell_type": "markdown",
   "id": "7183967b",
   "metadata": {},
   "source": [
    "- [ ] добавить проверку на период данных в заказах, отфильтровать только по периоду\n",
    "- [ ] выводить список курьеров кто попал под новую мотивацию\n",
    "- [ ] Добавить остановку выполнения кода, если какая то проверка не пройдена\n",
    "- [ ] Добавить предобработку данных из прямых файлов, чтобы не чистить их в экселе\n",
    "- [ ] Автоматизировать выгрузку данных через SQL запросы в БД\n",
    "- [ ] добавить проверку пропусков после расчета оплаты за каждый заказ\n",
    "- [X] добавить проверку на минимальные и максимальные суммы в общей таблице\n",
    "- [ ] в переменной bad_rate рестораны с косяками в датах, надо в баг репорт и в отдельный фаил\n",
    "- [ ] после объединения добавить блок сверки списков ресторанов, заказов, курьеров"
   ]
  }
 ],
 "metadata": {
  "kernelspec": {
   "display_name": "Python 3 (ipykernel)",
   "language": "python",
   "name": "python3"
  },
  "language_info": {
   "codemirror_mode": {
    "name": "ipython",
    "version": 3
   },
   "file_extension": ".py",
   "mimetype": "text/x-python",
   "name": "python",
   "nbconvert_exporter": "python",
   "pygments_lexer": "ipython3",
   "version": "3.7.8"
  },
  "toc": {
   "base_numbering": 1,
   "nav_menu": {},
   "number_sections": true,
   "sideBar": true,
   "skip_h1_title": true,
   "title_cell": "Table of Contents",
   "title_sidebar": "Contents",
   "toc_cell": true,
   "toc_position": {
    "height": "calc(100% - 180px)",
    "left": "10px",
    "top": "150px",
    "width": "349.091px"
   },
   "toc_section_display": true,
   "toc_window_display": true
  },
  "vscode": {
   "interpreter": {
    "hash": "d7288e82646d3164eca24130947288f8779d11454649f2c02a5dfc42af7f324c"
   }
  }
 },
 "nbformat": 4,
 "nbformat_minor": 5
}
